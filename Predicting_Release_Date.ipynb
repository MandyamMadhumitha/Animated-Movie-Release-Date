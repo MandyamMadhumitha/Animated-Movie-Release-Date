{
  "cells": [
    {
      "cell_type": "markdown",
      "metadata": {
        "id": "tpBBF-HbfBnL"
      },
      "source": [
        "# Predicting Animation Movie Release Date"
      ]
    },
    {
      "cell_type": "code",
      "execution_count": 42,
      "metadata": {
        "id": "49rpG2ZAdm0b"
      },
      "outputs": [],
      "source": [
        "import pandas as pd\n"
      ]
    },
    {
      "cell_type": "markdown",
      "metadata": {
        "id": "FhP-QxDwfHwA"
      },
      "source": [
        "## Exploring the data"
      ]
    },
    {
      "cell_type": "code",
      "execution_count": 43,
      "metadata": {
        "colab": {
          "base_uri": "https://localhost:8080/",
          "height": 1000
        },
        "id": "GeJKmyF2dwb0",
        "outputId": "a812fd2d-6508-4e13-cdf5-9f493f46ffb0"
      },
      "outputs": [
        {
          "output_type": "execute_result",
          "data": {
            "text/plain": [
              "           id                                              title  \\\n",
              "0      150540                                         Inside Out   \n",
              "1       14160                                                 Up   \n",
              "2          12                                       Finding Nemo   \n",
              "3      354912                                               Coco   \n",
              "4       10681                                             WALL·E   \n",
              "...       ...                                                ...   \n",
              "51940  656677                                          Белозубка   \n",
              "51941  657149                     Shimajiro to Ururu no Heroland   \n",
              "51942  656945                  Robo Force: The Revenge of Nazgar   \n",
              "51943  656893  Beginning Responsibility: A Lunchroom Goes Ban...   \n",
              "51944  656966                                  Natural Selection   \n",
              "\n",
              "       vote_average  vote_count    status release_date    revenue  runtime  \\\n",
              "0             7.922       19463  Released   2015-06-09  857611174       95   \n",
              "1             7.949       18857  Released   2009-05-28  735099082       96   \n",
              "2             7.824       18061  Released   2003-05-30  940335536      100   \n",
              "3             8.222       17742  Released   2017-10-27  800526015      105   \n",
              "4             8.078       17446  Released   2008-06-22  521311860       98   \n",
              "...             ...         ...       ...          ...        ...      ...   \n",
              "51940         0.000           0  Released   2018-12-20          0        0   \n",
              "51941         0.000           0  Released   2019-03-15          0       60   \n",
              "51942         0.000           0  Released   1984-12-08          0       22   \n",
              "51943         0.000           0  Released   1978-01-01          0       12   \n",
              "51944         0.000           0  Released   2019-08-20          0       10   \n",
              "\n",
              "       adult                     backdrop_path  ...  original_language  \\\n",
              "0      False  /j29ekbcLpBvxnGk6LjdTc2EI5SA.jpg  ...                 en   \n",
              "1      False  /hGGC9gKo7CFE3fW07RA587e5kol.jpg  ...                 en   \n",
              "2      False  /h3uqFk7sZRJvLZDdLiFB9qwbL07.jpg  ...                 en   \n",
              "3      False  /askg3SMvhqEl4OL52YuvdtY40Yb.jpg  ...                 en   \n",
              "4      False  /fK5ssgvtI43z19FoWigdlqgpLRE.jpg  ...                 en   \n",
              "...      ...                               ...  ...                ...   \n",
              "51940  False                               NaN  ...                 ru   \n",
              "51941  False  /jQMHu7B7LOY3R2PNJA4bBahEewN.jpg  ...                 ja   \n",
              "51942  False                               NaN  ...                 en   \n",
              "51943  False                               NaN  ...                 en   \n",
              "51944  False                               NaN  ...                 bs   \n",
              "\n",
              "                                          original_title  \\\n",
              "0                                             Inside Out   \n",
              "1                                                     Up   \n",
              "2                                           Finding Nemo   \n",
              "3                                                   Coco   \n",
              "4                                                 WALL·E   \n",
              "...                                                  ...   \n",
              "51940                                          Белозубка   \n",
              "51941                          映画しまじろう しまじろうとうるるのヒーローランド   \n",
              "51942                  Robo Force: The Revenge of Nazgar   \n",
              "51943  Beginning Responsibility: A Lunchroom Goes Ban...   \n",
              "51944                                    Prirodni odabir   \n",
              "\n",
              "                                                overview popularity  \\\n",
              "0      Growing up can be a bumpy road, and it's no ex...    107.292   \n",
              "1      Carl Fredricksen spent his entire life dreamin...     90.968   \n",
              "2      Nemo, an adventurous young clownfish, is unexp...     55.456   \n",
              "3      Despite his family’s baffling generations-old ...    166.578   \n",
              "4      What if mankind had to leave Earth and somebod...     58.517   \n",
              "...                                                  ...        ...   \n",
              "51940                                                NaN      0.600   \n",
              "51941  Hero Land is a world where you can meet the he...      2.531   \n",
              "51942  TV Short for Robo Force, included in Challenge...      1.952   \n",
              "51943  The food in Plumcrest School Cafeteria has gon...      0.600   \n",
              "51944  Woman-Doe is a living sculpture trapped in urb...      0.600   \n",
              "\n",
              "                            poster_path  \\\n",
              "0      /2H1TmgdfNtsKlU9jKdeNyYL5y8T.jpg   \n",
              "1      /vpbaStTMt8qqXaEgnOR2EE4DNJk.jpg   \n",
              "2      /ggQ6o8X5984OCh3kZi2UIJQJY5y.jpg   \n",
              "3      /gGEsBPAijhVUFoiNpgZXqRVWJt2.jpg   \n",
              "4      /hbhFnRzzg6ZDmm8YAmxBnQpQIPh.jpg   \n",
              "...                                 ...   \n",
              "51940  /r9rYEqBVJIHDUZZPyCkstkiM8Z2.jpg   \n",
              "51941  /yGthNH49g4ezKLrn6cUNKygcbtz.jpg   \n",
              "51942  /2l6C7P7zFE5WaLdpyzayYfWdIbW.jpg   \n",
              "51943                               NaN   \n",
              "51944  /sC6Zo37mqJ3Lf4xTXJTJy02mC67.jpg   \n",
              "\n",
              "                                                 tagline  \\\n",
              "0               Meet the little voices inside your head.   \n",
              "1      The greatest adventure is just getting back home.   \n",
              "2      There are 3.7 trillion fish in the ocean. They...   \n",
              "3                          The celebration of a lifetime   \n",
              "4      After 700 years of doing what he was built for...   \n",
              "...                                                  ...   \n",
              "51940                                                NaN   \n",
              "51941                                                NaN   \n",
              "51942                                                NaN   \n",
              "51943                                                NaN   \n",
              "51944                                                NaN   \n",
              "\n",
              "                                                  genres  \\\n",
              "0            Animation, Family, Adventure, Drama, Comedy   \n",
              "1                   Animation, Comedy, Family, Adventure   \n",
              "2                                      Animation, Family   \n",
              "3      Family, Animation, Fantasy, Music, Comedy, Adv...   \n",
              "4                     Animation, Family, Science Fiction   \n",
              "...                                                  ...   \n",
              "51940                                          Animation   \n",
              "51941                         Family, Animation, Fantasy   \n",
              "51942                 Animation, Action, Science Fiction   \n",
              "51943                     Animation, Documentary, Family   \n",
              "51944                                          Animation   \n",
              "\n",
              "                                    production_companies  \\\n",
              "0                            Pixar, Walt Disney Pictures   \n",
              "1                                                  Pixar   \n",
              "2                                                  Pixar   \n",
              "3                            Pixar, Walt Disney Pictures   \n",
              "4                            Pixar, Walt Disney Pictures   \n",
              "...                                                  ...   \n",
              "51940                                                NaN   \n",
              "51941  Benesse, Sony Music Direct, TOHO, The Answer S...   \n",
              "51942                                                NaN   \n",
              "51943                                      Coronet Films   \n",
              "51944                           Studio Neum, Zagreb Film   \n",
              "\n",
              "                  production_countries             spoken_languages  \n",
              "0             United States of America                      English  \n",
              "1             United States of America                      English  \n",
              "2             United States of America                      English  \n",
              "3             United States of America             English, Spanish  \n",
              "4             United States of America                      English  \n",
              "...                                ...                          ...  \n",
              "51940                           Russia                          NaN  \n",
              "51941                            Japan  Japanese, English, Mandarin  \n",
              "51942                              NaN                      English  \n",
              "51943                              NaN                      English  \n",
              "51944  Bosnia and Herzegovina, Croatia                      Bosnian  \n",
              "\n",
              "[51945 rows x 23 columns]"
            ],
            "text/html": [
              "\n",
              "  <div id=\"df-5ac81acb-521c-49f7-940c-53d82e0a51c9\" class=\"colab-df-container\">\n",
              "    <div>\n",
              "<style scoped>\n",
              "    .dataframe tbody tr th:only-of-type {\n",
              "        vertical-align: middle;\n",
              "    }\n",
              "\n",
              "    .dataframe tbody tr th {\n",
              "        vertical-align: top;\n",
              "    }\n",
              "\n",
              "    .dataframe thead th {\n",
              "        text-align: right;\n",
              "    }\n",
              "</style>\n",
              "<table border=\"1\" class=\"dataframe\">\n",
              "  <thead>\n",
              "    <tr style=\"text-align: right;\">\n",
              "      <th></th>\n",
              "      <th>id</th>\n",
              "      <th>title</th>\n",
              "      <th>vote_average</th>\n",
              "      <th>vote_count</th>\n",
              "      <th>status</th>\n",
              "      <th>release_date</th>\n",
              "      <th>revenue</th>\n",
              "      <th>runtime</th>\n",
              "      <th>adult</th>\n",
              "      <th>backdrop_path</th>\n",
              "      <th>...</th>\n",
              "      <th>original_language</th>\n",
              "      <th>original_title</th>\n",
              "      <th>overview</th>\n",
              "      <th>popularity</th>\n",
              "      <th>poster_path</th>\n",
              "      <th>tagline</th>\n",
              "      <th>genres</th>\n",
              "      <th>production_companies</th>\n",
              "      <th>production_countries</th>\n",
              "      <th>spoken_languages</th>\n",
              "    </tr>\n",
              "  </thead>\n",
              "  <tbody>\n",
              "    <tr>\n",
              "      <th>0</th>\n",
              "      <td>150540</td>\n",
              "      <td>Inside Out</td>\n",
              "      <td>7.922</td>\n",
              "      <td>19463</td>\n",
              "      <td>Released</td>\n",
              "      <td>2015-06-09</td>\n",
              "      <td>857611174</td>\n",
              "      <td>95</td>\n",
              "      <td>False</td>\n",
              "      <td>/j29ekbcLpBvxnGk6LjdTc2EI5SA.jpg</td>\n",
              "      <td>...</td>\n",
              "      <td>en</td>\n",
              "      <td>Inside Out</td>\n",
              "      <td>Growing up can be a bumpy road, and it's no ex...</td>\n",
              "      <td>107.292</td>\n",
              "      <td>/2H1TmgdfNtsKlU9jKdeNyYL5y8T.jpg</td>\n",
              "      <td>Meet the little voices inside your head.</td>\n",
              "      <td>Animation, Family, Adventure, Drama, Comedy</td>\n",
              "      <td>Pixar, Walt Disney Pictures</td>\n",
              "      <td>United States of America</td>\n",
              "      <td>English</td>\n",
              "    </tr>\n",
              "    <tr>\n",
              "      <th>1</th>\n",
              "      <td>14160</td>\n",
              "      <td>Up</td>\n",
              "      <td>7.949</td>\n",
              "      <td>18857</td>\n",
              "      <td>Released</td>\n",
              "      <td>2009-05-28</td>\n",
              "      <td>735099082</td>\n",
              "      <td>96</td>\n",
              "      <td>False</td>\n",
              "      <td>/hGGC9gKo7CFE3fW07RA587e5kol.jpg</td>\n",
              "      <td>...</td>\n",
              "      <td>en</td>\n",
              "      <td>Up</td>\n",
              "      <td>Carl Fredricksen spent his entire life dreamin...</td>\n",
              "      <td>90.968</td>\n",
              "      <td>/vpbaStTMt8qqXaEgnOR2EE4DNJk.jpg</td>\n",
              "      <td>The greatest adventure is just getting back home.</td>\n",
              "      <td>Animation, Comedy, Family, Adventure</td>\n",
              "      <td>Pixar</td>\n",
              "      <td>United States of America</td>\n",
              "      <td>English</td>\n",
              "    </tr>\n",
              "    <tr>\n",
              "      <th>2</th>\n",
              "      <td>12</td>\n",
              "      <td>Finding Nemo</td>\n",
              "      <td>7.824</td>\n",
              "      <td>18061</td>\n",
              "      <td>Released</td>\n",
              "      <td>2003-05-30</td>\n",
              "      <td>940335536</td>\n",
              "      <td>100</td>\n",
              "      <td>False</td>\n",
              "      <td>/h3uqFk7sZRJvLZDdLiFB9qwbL07.jpg</td>\n",
              "      <td>...</td>\n",
              "      <td>en</td>\n",
              "      <td>Finding Nemo</td>\n",
              "      <td>Nemo, an adventurous young clownfish, is unexp...</td>\n",
              "      <td>55.456</td>\n",
              "      <td>/ggQ6o8X5984OCh3kZi2UIJQJY5y.jpg</td>\n",
              "      <td>There are 3.7 trillion fish in the ocean. They...</td>\n",
              "      <td>Animation, Family</td>\n",
              "      <td>Pixar</td>\n",
              "      <td>United States of America</td>\n",
              "      <td>English</td>\n",
              "    </tr>\n",
              "    <tr>\n",
              "      <th>3</th>\n",
              "      <td>354912</td>\n",
              "      <td>Coco</td>\n",
              "      <td>8.222</td>\n",
              "      <td>17742</td>\n",
              "      <td>Released</td>\n",
              "      <td>2017-10-27</td>\n",
              "      <td>800526015</td>\n",
              "      <td>105</td>\n",
              "      <td>False</td>\n",
              "      <td>/askg3SMvhqEl4OL52YuvdtY40Yb.jpg</td>\n",
              "      <td>...</td>\n",
              "      <td>en</td>\n",
              "      <td>Coco</td>\n",
              "      <td>Despite his family’s baffling generations-old ...</td>\n",
              "      <td>166.578</td>\n",
              "      <td>/gGEsBPAijhVUFoiNpgZXqRVWJt2.jpg</td>\n",
              "      <td>The celebration of a lifetime</td>\n",
              "      <td>Family, Animation, Fantasy, Music, Comedy, Adv...</td>\n",
              "      <td>Pixar, Walt Disney Pictures</td>\n",
              "      <td>United States of America</td>\n",
              "      <td>English, Spanish</td>\n",
              "    </tr>\n",
              "    <tr>\n",
              "      <th>4</th>\n",
              "      <td>10681</td>\n",
              "      <td>WALL·E</td>\n",
              "      <td>8.078</td>\n",
              "      <td>17446</td>\n",
              "      <td>Released</td>\n",
              "      <td>2008-06-22</td>\n",
              "      <td>521311860</td>\n",
              "      <td>98</td>\n",
              "      <td>False</td>\n",
              "      <td>/fK5ssgvtI43z19FoWigdlqgpLRE.jpg</td>\n",
              "      <td>...</td>\n",
              "      <td>en</td>\n",
              "      <td>WALL·E</td>\n",
              "      <td>What if mankind had to leave Earth and somebod...</td>\n",
              "      <td>58.517</td>\n",
              "      <td>/hbhFnRzzg6ZDmm8YAmxBnQpQIPh.jpg</td>\n",
              "      <td>After 700 years of doing what he was built for...</td>\n",
              "      <td>Animation, Family, Science Fiction</td>\n",
              "      <td>Pixar, Walt Disney Pictures</td>\n",
              "      <td>United States of America</td>\n",
              "      <td>English</td>\n",
              "    </tr>\n",
              "    <tr>\n",
              "      <th>...</th>\n",
              "      <td>...</td>\n",
              "      <td>...</td>\n",
              "      <td>...</td>\n",
              "      <td>...</td>\n",
              "      <td>...</td>\n",
              "      <td>...</td>\n",
              "      <td>...</td>\n",
              "      <td>...</td>\n",
              "      <td>...</td>\n",
              "      <td>...</td>\n",
              "      <td>...</td>\n",
              "      <td>...</td>\n",
              "      <td>...</td>\n",
              "      <td>...</td>\n",
              "      <td>...</td>\n",
              "      <td>...</td>\n",
              "      <td>...</td>\n",
              "      <td>...</td>\n",
              "      <td>...</td>\n",
              "      <td>...</td>\n",
              "      <td>...</td>\n",
              "    </tr>\n",
              "    <tr>\n",
              "      <th>51940</th>\n",
              "      <td>656677</td>\n",
              "      <td>Белозубка</td>\n",
              "      <td>0.000</td>\n",
              "      <td>0</td>\n",
              "      <td>Released</td>\n",
              "      <td>2018-12-20</td>\n",
              "      <td>0</td>\n",
              "      <td>0</td>\n",
              "      <td>False</td>\n",
              "      <td>NaN</td>\n",
              "      <td>...</td>\n",
              "      <td>ru</td>\n",
              "      <td>Белозубка</td>\n",
              "      <td>NaN</td>\n",
              "      <td>0.600</td>\n",
              "      <td>/r9rYEqBVJIHDUZZPyCkstkiM8Z2.jpg</td>\n",
              "      <td>NaN</td>\n",
              "      <td>Animation</td>\n",
              "      <td>NaN</td>\n",
              "      <td>Russia</td>\n",
              "      <td>NaN</td>\n",
              "    </tr>\n",
              "    <tr>\n",
              "      <th>51941</th>\n",
              "      <td>657149</td>\n",
              "      <td>Shimajiro to Ururu no Heroland</td>\n",
              "      <td>0.000</td>\n",
              "      <td>0</td>\n",
              "      <td>Released</td>\n",
              "      <td>2019-03-15</td>\n",
              "      <td>0</td>\n",
              "      <td>60</td>\n",
              "      <td>False</td>\n",
              "      <td>/jQMHu7B7LOY3R2PNJA4bBahEewN.jpg</td>\n",
              "      <td>...</td>\n",
              "      <td>ja</td>\n",
              "      <td>映画しまじろう しまじろうとうるるのヒーローランド</td>\n",
              "      <td>Hero Land is a world where you can meet the he...</td>\n",
              "      <td>2.531</td>\n",
              "      <td>/yGthNH49g4ezKLrn6cUNKygcbtz.jpg</td>\n",
              "      <td>NaN</td>\n",
              "      <td>Family, Animation, Fantasy</td>\n",
              "      <td>Benesse, Sony Music Direct, TOHO, The Answer S...</td>\n",
              "      <td>Japan</td>\n",
              "      <td>Japanese, English, Mandarin</td>\n",
              "    </tr>\n",
              "    <tr>\n",
              "      <th>51942</th>\n",
              "      <td>656945</td>\n",
              "      <td>Robo Force: The Revenge of Nazgar</td>\n",
              "      <td>0.000</td>\n",
              "      <td>0</td>\n",
              "      <td>Released</td>\n",
              "      <td>1984-12-08</td>\n",
              "      <td>0</td>\n",
              "      <td>22</td>\n",
              "      <td>False</td>\n",
              "      <td>NaN</td>\n",
              "      <td>...</td>\n",
              "      <td>en</td>\n",
              "      <td>Robo Force: The Revenge of Nazgar</td>\n",
              "      <td>TV Short for Robo Force, included in Challenge...</td>\n",
              "      <td>1.952</td>\n",
              "      <td>/2l6C7P7zFE5WaLdpyzayYfWdIbW.jpg</td>\n",
              "      <td>NaN</td>\n",
              "      <td>Animation, Action, Science Fiction</td>\n",
              "      <td>NaN</td>\n",
              "      <td>NaN</td>\n",
              "      <td>English</td>\n",
              "    </tr>\n",
              "    <tr>\n",
              "      <th>51943</th>\n",
              "      <td>656893</td>\n",
              "      <td>Beginning Responsibility: A Lunchroom Goes Ban...</td>\n",
              "      <td>0.000</td>\n",
              "      <td>0</td>\n",
              "      <td>Released</td>\n",
              "      <td>1978-01-01</td>\n",
              "      <td>0</td>\n",
              "      <td>12</td>\n",
              "      <td>False</td>\n",
              "      <td>NaN</td>\n",
              "      <td>...</td>\n",
              "      <td>en</td>\n",
              "      <td>Beginning Responsibility: A Lunchroom Goes Ban...</td>\n",
              "      <td>The food in Plumcrest School Cafeteria has gon...</td>\n",
              "      <td>0.600</td>\n",
              "      <td>NaN</td>\n",
              "      <td>NaN</td>\n",
              "      <td>Animation, Documentary, Family</td>\n",
              "      <td>Coronet Films</td>\n",
              "      <td>NaN</td>\n",
              "      <td>English</td>\n",
              "    </tr>\n",
              "    <tr>\n",
              "      <th>51944</th>\n",
              "      <td>656966</td>\n",
              "      <td>Natural Selection</td>\n",
              "      <td>0.000</td>\n",
              "      <td>0</td>\n",
              "      <td>Released</td>\n",
              "      <td>2019-08-20</td>\n",
              "      <td>0</td>\n",
              "      <td>10</td>\n",
              "      <td>False</td>\n",
              "      <td>NaN</td>\n",
              "      <td>...</td>\n",
              "      <td>bs</td>\n",
              "      <td>Prirodni odabir</td>\n",
              "      <td>Woman-Doe is a living sculpture trapped in urb...</td>\n",
              "      <td>0.600</td>\n",
              "      <td>/sC6Zo37mqJ3Lf4xTXJTJy02mC67.jpg</td>\n",
              "      <td>NaN</td>\n",
              "      <td>Animation</td>\n",
              "      <td>Studio Neum, Zagreb Film</td>\n",
              "      <td>Bosnia and Herzegovina, Croatia</td>\n",
              "      <td>Bosnian</td>\n",
              "    </tr>\n",
              "  </tbody>\n",
              "</table>\n",
              "<p>51945 rows × 23 columns</p>\n",
              "</div>\n",
              "    <div class=\"colab-df-buttons\">\n",
              "\n",
              "  <div class=\"colab-df-container\">\n",
              "    <button class=\"colab-df-convert\" onclick=\"convertToInteractive('df-5ac81acb-521c-49f7-940c-53d82e0a51c9')\"\n",
              "            title=\"Convert this dataframe to an interactive table.\"\n",
              "            style=\"display:none;\">\n",
              "\n",
              "  <svg xmlns=\"http://www.w3.org/2000/svg\" height=\"24px\" viewBox=\"0 -960 960 960\">\n",
              "    <path d=\"M120-120v-720h720v720H120Zm60-500h600v-160H180v160Zm220 220h160v-160H400v160Zm0 220h160v-160H400v160ZM180-400h160v-160H180v160Zm440 0h160v-160H620v160ZM180-180h160v-160H180v160Zm440 0h160v-160H620v160Z\"/>\n",
              "  </svg>\n",
              "    </button>\n",
              "\n",
              "  <style>\n",
              "    .colab-df-container {\n",
              "      display:flex;\n",
              "      gap: 12px;\n",
              "    }\n",
              "\n",
              "    .colab-df-convert {\n",
              "      background-color: #E8F0FE;\n",
              "      border: none;\n",
              "      border-radius: 50%;\n",
              "      cursor: pointer;\n",
              "      display: none;\n",
              "      fill: #1967D2;\n",
              "      height: 32px;\n",
              "      padding: 0 0 0 0;\n",
              "      width: 32px;\n",
              "    }\n",
              "\n",
              "    .colab-df-convert:hover {\n",
              "      background-color: #E2EBFA;\n",
              "      box-shadow: 0px 1px 2px rgba(60, 64, 67, 0.3), 0px 1px 3px 1px rgba(60, 64, 67, 0.15);\n",
              "      fill: #174EA6;\n",
              "    }\n",
              "\n",
              "    .colab-df-buttons div {\n",
              "      margin-bottom: 4px;\n",
              "    }\n",
              "\n",
              "    [theme=dark] .colab-df-convert {\n",
              "      background-color: #3B4455;\n",
              "      fill: #D2E3FC;\n",
              "    }\n",
              "\n",
              "    [theme=dark] .colab-df-convert:hover {\n",
              "      background-color: #434B5C;\n",
              "      box-shadow: 0px 1px 3px 1px rgba(0, 0, 0, 0.15);\n",
              "      filter: drop-shadow(0px 1px 2px rgba(0, 0, 0, 0.3));\n",
              "      fill: #FFFFFF;\n",
              "    }\n",
              "  </style>\n",
              "\n",
              "    <script>\n",
              "      const buttonEl =\n",
              "        document.querySelector('#df-5ac81acb-521c-49f7-940c-53d82e0a51c9 button.colab-df-convert');\n",
              "      buttonEl.style.display =\n",
              "        google.colab.kernel.accessAllowed ? 'block' : 'none';\n",
              "\n",
              "      async function convertToInteractive(key) {\n",
              "        const element = document.querySelector('#df-5ac81acb-521c-49f7-940c-53d82e0a51c9');\n",
              "        const dataTable =\n",
              "          await google.colab.kernel.invokeFunction('convertToInteractive',\n",
              "                                                    [key], {});\n",
              "        if (!dataTable) return;\n",
              "\n",
              "        const docLinkHtml = 'Like what you see? Visit the ' +\n",
              "          '<a target=\"_blank\" href=https://colab.research.google.com/notebooks/data_table.ipynb>data table notebook</a>'\n",
              "          + ' to learn more about interactive tables.';\n",
              "        element.innerHTML = '';\n",
              "        dataTable['output_type'] = 'display_data';\n",
              "        await google.colab.output.renderOutput(dataTable, element);\n",
              "        const docLink = document.createElement('div');\n",
              "        docLink.innerHTML = docLinkHtml;\n",
              "        element.appendChild(docLink);\n",
              "      }\n",
              "    </script>\n",
              "  </div>\n",
              "\n",
              "\n",
              "<div id=\"df-9225944a-d9e6-4929-9b97-5ec24937a58e\">\n",
              "  <button class=\"colab-df-quickchart\" onclick=\"quickchart('df-9225944a-d9e6-4929-9b97-5ec24937a58e')\"\n",
              "            title=\"Suggest charts\"\n",
              "            style=\"display:none;\">\n",
              "\n",
              "<svg xmlns=\"http://www.w3.org/2000/svg\" height=\"24px\"viewBox=\"0 0 24 24\"\n",
              "     width=\"24px\">\n",
              "    <g>\n",
              "        <path d=\"M19 3H5c-1.1 0-2 .9-2 2v14c0 1.1.9 2 2 2h14c1.1 0 2-.9 2-2V5c0-1.1-.9-2-2-2zM9 17H7v-7h2v7zm4 0h-2V7h2v10zm4 0h-2v-4h2v4z\"/>\n",
              "    </g>\n",
              "</svg>\n",
              "  </button>\n",
              "\n",
              "<style>\n",
              "  .colab-df-quickchart {\n",
              "      --bg-color: #E8F0FE;\n",
              "      --fill-color: #1967D2;\n",
              "      --hover-bg-color: #E2EBFA;\n",
              "      --hover-fill-color: #174EA6;\n",
              "      --disabled-fill-color: #AAA;\n",
              "      --disabled-bg-color: #DDD;\n",
              "  }\n",
              "\n",
              "  [theme=dark] .colab-df-quickchart {\n",
              "      --bg-color: #3B4455;\n",
              "      --fill-color: #D2E3FC;\n",
              "      --hover-bg-color: #434B5C;\n",
              "      --hover-fill-color: #FFFFFF;\n",
              "      --disabled-bg-color: #3B4455;\n",
              "      --disabled-fill-color: #666;\n",
              "  }\n",
              "\n",
              "  .colab-df-quickchart {\n",
              "    background-color: var(--bg-color);\n",
              "    border: none;\n",
              "    border-radius: 50%;\n",
              "    cursor: pointer;\n",
              "    display: none;\n",
              "    fill: var(--fill-color);\n",
              "    height: 32px;\n",
              "    padding: 0;\n",
              "    width: 32px;\n",
              "  }\n",
              "\n",
              "  .colab-df-quickchart:hover {\n",
              "    background-color: var(--hover-bg-color);\n",
              "    box-shadow: 0 1px 2px rgba(60, 64, 67, 0.3), 0 1px 3px 1px rgba(60, 64, 67, 0.15);\n",
              "    fill: var(--button-hover-fill-color);\n",
              "  }\n",
              "\n",
              "  .colab-df-quickchart-complete:disabled,\n",
              "  .colab-df-quickchart-complete:disabled:hover {\n",
              "    background-color: var(--disabled-bg-color);\n",
              "    fill: var(--disabled-fill-color);\n",
              "    box-shadow: none;\n",
              "  }\n",
              "\n",
              "  .colab-df-spinner {\n",
              "    border: 2px solid var(--fill-color);\n",
              "    border-color: transparent;\n",
              "    border-bottom-color: var(--fill-color);\n",
              "    animation:\n",
              "      spin 1s steps(1) infinite;\n",
              "  }\n",
              "\n",
              "  @keyframes spin {\n",
              "    0% {\n",
              "      border-color: transparent;\n",
              "      border-bottom-color: var(--fill-color);\n",
              "      border-left-color: var(--fill-color);\n",
              "    }\n",
              "    20% {\n",
              "      border-color: transparent;\n",
              "      border-left-color: var(--fill-color);\n",
              "      border-top-color: var(--fill-color);\n",
              "    }\n",
              "    30% {\n",
              "      border-color: transparent;\n",
              "      border-left-color: var(--fill-color);\n",
              "      border-top-color: var(--fill-color);\n",
              "      border-right-color: var(--fill-color);\n",
              "    }\n",
              "    40% {\n",
              "      border-color: transparent;\n",
              "      border-right-color: var(--fill-color);\n",
              "      border-top-color: var(--fill-color);\n",
              "    }\n",
              "    60% {\n",
              "      border-color: transparent;\n",
              "      border-right-color: var(--fill-color);\n",
              "    }\n",
              "    80% {\n",
              "      border-color: transparent;\n",
              "      border-right-color: var(--fill-color);\n",
              "      border-bottom-color: var(--fill-color);\n",
              "    }\n",
              "    90% {\n",
              "      border-color: transparent;\n",
              "      border-bottom-color: var(--fill-color);\n",
              "    }\n",
              "  }\n",
              "</style>\n",
              "\n",
              "  <script>\n",
              "    async function quickchart(key) {\n",
              "      const quickchartButtonEl =\n",
              "        document.querySelector('#' + key + ' button');\n",
              "      quickchartButtonEl.disabled = true;  // To prevent multiple clicks.\n",
              "      quickchartButtonEl.classList.add('colab-df-spinner');\n",
              "      try {\n",
              "        const charts = await google.colab.kernel.invokeFunction(\n",
              "            'suggestCharts', [key], {});\n",
              "      } catch (error) {\n",
              "        console.error('Error during call to suggestCharts:', error);\n",
              "      }\n",
              "      quickchartButtonEl.classList.remove('colab-df-spinner');\n",
              "      quickchartButtonEl.classList.add('colab-df-quickchart-complete');\n",
              "    }\n",
              "    (() => {\n",
              "      let quickchartButtonEl =\n",
              "        document.querySelector('#df-9225944a-d9e6-4929-9b97-5ec24937a58e button');\n",
              "      quickchartButtonEl.style.display =\n",
              "        google.colab.kernel.accessAllowed ? 'block' : 'none';\n",
              "    })();\n",
              "  </script>\n",
              "</div>\n",
              "    </div>\n",
              "  </div>\n"
            ],
            "application/vnd.google.colaboratory.intrinsic+json": {
              "type": "dataframe",
              "variable_name": "data"
            }
          },
          "metadata": {},
          "execution_count": 43
        }
      ],
      "source": [
        "path = \"/content/Animation_Movies.csv\"\n",
        "data = pd.read_csv(\"Animation_Movies.csv\")\n",
        "#data = pd.read_csv(path)\n",
        "data"
      ]
    },
    {
      "cell_type": "code",
      "execution_count": 44,
      "metadata": {
        "colab": {
          "base_uri": "https://localhost:8080/"
        },
        "id": "Wco0kK-md4ux",
        "outputId": "87e132d4-83d0-4c82-8627-4298584985f7"
      },
      "outputs": [
        {
          "output_type": "execute_result",
          "data": {
            "text/plain": [
              "id                          0\n",
              "title                       1\n",
              "vote_average                0\n",
              "vote_count                  0\n",
              "status                      0\n",
              "release_date             2137\n",
              "revenue                     0\n",
              "runtime                     0\n",
              "adult                       0\n",
              "backdrop_path           36110\n",
              "budget                      0\n",
              "homepage                43692\n",
              "imdb_id                 22393\n",
              "original_language           0\n",
              "original_title              1\n",
              "overview                 6079\n",
              "popularity                  0\n",
              "poster_path             14011\n",
              "tagline                 47267\n",
              "genres                      0\n",
              "production_companies    22547\n",
              "production_countries    12245\n",
              "spoken_languages        18127\n",
              "dtype: int64"
            ]
          },
          "metadata": {},
          "execution_count": 44
        }
      ],
      "source": [
        "data.isnull().sum()"
      ]
    },
    {
      "cell_type": "code",
      "source": [
        "# Filter out observations where revenue is non-positive\n",
        "data = data[data['revenue'] > 0]\n",
        "\n",
        "# Check the shape of the DataFrame after filtering\n",
        "print(data.shape)"
      ],
      "metadata": {
        "colab": {
          "base_uri": "https://localhost:8080/"
        },
        "id": "MVQRV-_wzjuj",
        "outputId": "c830a791-92bd-4f91-b439-9c7cd700a181"
      },
      "execution_count": 45,
      "outputs": [
        {
          "output_type": "stream",
          "name": "stdout",
          "text": [
            "(1100, 23)\n"
          ]
        }
      ]
    },
    {
      "cell_type": "code",
      "execution_count": 46,
      "metadata": {
        "colab": {
          "base_uri": "https://localhost:8080/"
        },
        "id": "VwdlbtcRfNdt",
        "outputId": "b92f52bc-70f3-48d2-b5e2-b7ded474ed43"
      },
      "outputs": [
        {
          "output_type": "stream",
          "name": "stdout",
          "text": [
            "Null Percentages:\n",
            "id                       0.000000\n",
            "title                    0.000000\n",
            "vote_average             0.000000\n",
            "vote_count               0.000000\n",
            "status                   0.000000\n",
            "release_date             1.090909\n",
            "revenue                  0.000000\n",
            "runtime                  0.000000\n",
            "adult                    0.000000\n",
            "backdrop_path           11.363636\n",
            "budget                   0.000000\n",
            "homepage                49.000000\n",
            "imdb_id                  6.363636\n",
            "original_language        0.000000\n",
            "original_title           0.000000\n",
            "overview                 4.000000\n",
            "popularity               0.000000\n",
            "poster_path              3.454545\n",
            "tagline                 36.727273\n",
            "genres                   0.000000\n",
            "production_companies     7.363636\n",
            "production_countries     4.909091\n",
            "spoken_languages         3.636364\n",
            "dtype: float64\n"
          ]
        }
      ],
      "source": [
        "# Calculate null percentages\n",
        "null_percentages = (data.isnull().sum() / len(data)) * 100\n",
        "\n",
        "print(\"Null Percentages:\")\n",
        "print(null_percentages)"
      ]
    },
    {
      "cell_type": "markdown",
      "metadata": {
        "id": "8mX53TIjfQ6L"
      },
      "source": [
        "Remove predictors where more than 25% of the data is missing and isnt relevant to our analysis"
      ]
    },
    {
      "cell_type": "code",
      "execution_count": 47,
      "metadata": {
        "id": "Hf1QjHAogKqP",
        "colab": {
          "base_uri": "https://localhost:8080/"
        },
        "outputId": "3fbba6fa-c707-4bbb-c324-6cb64bad1303"
      },
      "outputs": [
        {
          "output_type": "stream",
          "name": "stdout",
          "text": [
            "(1100, 16)\n"
          ]
        }
      ],
      "source": [
        "animation = data.drop([\"backdrop_path\",\"homepage\",\"imdb_id\", \"poster_path\", \"tagline\", \"production_companies\",\"production_countries\" ],axis=1)\n",
        "print(animation.shape)"
      ]
    },
    {
      "cell_type": "code",
      "execution_count": 48,
      "metadata": {
        "id": "E48NlWt0lDgX"
      },
      "outputs": [],
      "source": [
        "# Drop the rows with the remaining null values, imputing doesnt make sense in this context\n",
        "animation_processed = animation.dropna()"
      ]
    },
    {
      "cell_type": "code",
      "execution_count": 49,
      "metadata": {
        "id": "dBbycfGAlVER",
        "colab": {
          "base_uri": "https://localhost:8080/"
        },
        "outputId": "0de1712a-8536-4558-9d1a-e6d45def6fd2"
      },
      "outputs": [
        {
          "output_type": "execute_result",
          "data": {
            "text/plain": [
              "(1022, 16)"
            ]
          },
          "metadata": {},
          "execution_count": 49
        }
      ],
      "source": [
        "animation_processed.shape"
      ]
    },
    {
      "cell_type": "code",
      "execution_count": 50,
      "metadata": {
        "colab": {
          "base_uri": "https://localhost:8080/"
        },
        "id": "VQcLAJIbmIcM",
        "outputId": "7469c73f-e818-4cbf-e520-1eff58ff2046"
      },
      "outputs": [
        {
          "output_type": "stream",
          "name": "stdout",
          "text": [
            "Null Percentages:\n",
            "id                   0.0\n",
            "title                0.0\n",
            "vote_average         0.0\n",
            "vote_count           0.0\n",
            "status               0.0\n",
            "release_date         0.0\n",
            "revenue              0.0\n",
            "runtime              0.0\n",
            "adult                0.0\n",
            "budget               0.0\n",
            "original_language    0.0\n",
            "original_title       0.0\n",
            "overview             0.0\n",
            "popularity           0.0\n",
            "genres               0.0\n",
            "spoken_languages     0.0\n",
            "dtype: float64\n"
          ]
        }
      ],
      "source": [
        "# Calculate null percentages\n",
        "null_percentages = (animation_processed.isnull().sum() / len(animation_processed)) * 100\n",
        "\n",
        "print(\"Null Percentages:\")\n",
        "print(null_percentages)"
      ]
    },
    {
      "cell_type": "code",
      "execution_count": 51,
      "metadata": {
        "colab": {
          "base_uri": "https://localhost:8080/"
        },
        "id": "fUPo_6h3mb4q",
        "outputId": "c85e2322-75e8-4b33-a268-9cbaafc82d36"
      },
      "outputs": [
        {
          "output_type": "stream",
          "name": "stdout",
          "text": [
            "(1022, 16)\n"
          ]
        }
      ],
      "source": [
        "# data dimensions after removing NA values\n",
        "print(animation_processed.shape)"
      ]
    },
    {
      "cell_type": "markdown",
      "metadata": {
        "id": "5AYtGGgRmpxE"
      },
      "source": [
        "### 14855 observations and 19 features"
      ]
    },
    {
      "cell_type": "markdown",
      "metadata": {
        "id": "5tQ-VmXQrCeP"
      },
      "source": [
        "## Preprocessing"
      ]
    },
    {
      "cell_type": "code",
      "execution_count": 52,
      "metadata": {
        "id": "xnPbbrjmrASt",
        "colab": {
          "base_uri": "https://localhost:8080/"
        },
        "outputId": "f4b40539-c88b-47be-a8f4-c11d7bed247e"
      },
      "outputs": [
        {
          "output_type": "stream",
          "name": "stderr",
          "text": [
            "<ipython-input-52-45715a33d49f>:5: SettingWithCopyWarning: \n",
            "A value is trying to be set on a copy of a slice from a DataFrame.\n",
            "Try using .loc[row_indexer,col_indexer] = value instead\n",
            "\n",
            "See the caveats in the documentation: https://pandas.pydata.org/pandas-docs/stable/user_guide/indexing.html#returning-a-view-versus-a-copy\n",
            "  animation_processed['release_date'] = pd.to_datetime(animation_processed['release_date'])\n",
            "<ipython-input-52-45715a33d49f>:7: SettingWithCopyWarning: \n",
            "A value is trying to be set on a copy of a slice from a DataFrame.\n",
            "Try using .loc[row_indexer,col_indexer] = value instead\n",
            "\n",
            "See the caveats in the documentation: https://pandas.pydata.org/pandas-docs/stable/user_guide/indexing.html#returning-a-view-versus-a-copy\n",
            "  animation_processed['release_month'] = animation_processed['release_date'].dt.month\n",
            "<ipython-input-52-45715a33d49f>:8: SettingWithCopyWarning: \n",
            "A value is trying to be set on a copy of a slice from a DataFrame.\n",
            "Try using .loc[row_indexer,col_indexer] = value instead\n",
            "\n",
            "See the caveats in the documentation: https://pandas.pydata.org/pandas-docs/stable/user_guide/indexing.html#returning-a-view-versus-a-copy\n",
            "  animation_processed['release_year'] = animation_processed['release_date'].dt.year\n",
            "<ipython-input-52-45715a33d49f>:9: SettingWithCopyWarning: \n",
            "A value is trying to be set on a copy of a slice from a DataFrame.\n",
            "Try using .loc[row_indexer,col_indexer] = value instead\n",
            "\n",
            "See the caveats in the documentation: https://pandas.pydata.org/pandas-docs/stable/user_guide/indexing.html#returning-a-view-versus-a-copy\n",
            "  animation_processed['release_day_of_week'] = animation_processed['release_date'].dt.dayofweek  # Monday=0, Sunday=6\n",
            "<ipython-input-52-45715a33d49f>:10: SettingWithCopyWarning: \n",
            "A value is trying to be set on a copy of a slice from a DataFrame.\n",
            "Try using .loc[row_indexer,col_indexer] = value instead\n",
            "\n",
            "See the caveats in the documentation: https://pandas.pydata.org/pandas-docs/stable/user_guide/indexing.html#returning-a-view-versus-a-copy\n",
            "  animation_processed['release_season'] = (animation_processed['release_month'] % 12 + 3) // 3  # Calculate season based on month\n"
          ]
        }
      ],
      "source": [
        "from sklearn.model_selection import train_test_split\n",
        "from sklearn.preprocessing import StandardScaler\n",
        "\n",
        "# Convert release_date column to datetime\n",
        "animation_processed['release_date'] = pd.to_datetime(animation_processed['release_date'])\n",
        "# Extract temporal features\n",
        "animation_processed['release_month'] = animation_processed['release_date'].dt.month\n",
        "animation_processed['release_year'] = animation_processed['release_date'].dt.year\n",
        "animation_processed['release_day_of_week'] = animation_processed['release_date'].dt.dayofweek  # Monday=0, Sunday=6\n",
        "animation_processed['release_season'] = (animation_processed['release_month'] % 12 + 3) // 3  # Calculate season based on month\n",
        "\n",
        "# Create a new DataFrame containing only numeric columns from X\n",
        "numeric_data = animation_processed.select_dtypes(include=['float64', 'int64'])  # Select only numeric columns (float64 and int64)\n",
        "# remove response var\n",
        "numeric_data = numeric_data.drop(columns=['revenue'])"
      ]
    },
    {
      "cell_type": "code",
      "execution_count": 53,
      "metadata": {
        "colab": {
          "base_uri": "https://localhost:8080/",
          "height": 786
        },
        "id": "8jyrPBzj2cCv",
        "outputId": "36f2b189-e6bf-497c-9c2f-bb100f08c821"
      },
      "outputs": [
        {
          "output_type": "display_data",
          "data": {
            "text/plain": [
              "<Figure size 1500x1000 with 6 Axes>"
            ],
            "image/png": "[encoded data removed]"
          },
          "metadata": {}
        }
      ],
      "source": [
        "import matplotlib.pyplot as plt\n",
        "\n",
        "num_cols = 3\n",
        "\n",
        "num_rows = (len(numeric_data.columns) + num_cols - 1) // num_cols\n",
        "\n",
        "fig, axs = plt.subplots(num_rows, num_cols, figsize=(15, 5*num_rows))\n",
        "\n",
        "axs = axs.flatten()\n",
        "\n",
        "for i, column in enumerate(numeric_data.columns):\n",
        "    ax = axs[i]\n",
        "    ax.hist(numeric_data[column], bins=10)\n",
        "    ax.set_title(column)\n",
        "    ax.set_xlabel('Value')\n",
        "    ax.set_ylabel('Frequency')\n",
        "\n",
        "plt.tight_layout()\n",
        "plt.show()"
      ]
    },
    {
      "cell_type": "markdown",
      "metadata": {
        "id": "x9l17CMQ2H0v"
      },
      "source": [
        "## Degenerative Distributions"
      ]
    },
    {
      "cell_type": "code",
      "execution_count": 54,
      "metadata": {
        "colab": {
          "base_uri": "https://localhost:8080/"
        },
        "id": "hvvbuwEc2Hmi",
        "outputId": "29d8b72f-f183-4474-890f-d2146e269f4a"
      },
      "outputs": [
        {
          "output_type": "stream",
          "name": "stdout",
          "text": [
            "Columns with near-zero variance:\n",
            "[]\n"
          ]
        }
      ],
      "source": [
        "# Near Zero Variance\n",
        "# Ratio of the frequency of the most prevalent value to the frequency of the second most prevalent is large ex: ratio of 20\n",
        "import pandas as pd\n",
        "\n",
        "\n",
        "# Function to check if both criteria are met\n",
        "def is_near_zero_variance(series):\n",
        "    unique_fraction = series.nunique() / len(series)\n",
        "    value_counts = series.value_counts()\n",
        "    if len(value_counts) > 1:\n",
        "        freq_ratio = value_counts.iloc[0] / value_counts.iloc[1]\n",
        "        if unique_fraction < 0.05 and freq_ratio > 20:\n",
        "            return True\n",
        "    return False\n",
        "\n",
        "# Filter columns that meet the criteria\n",
        "near_zero_variance_columns = []\n",
        "for col in numeric_data.columns:\n",
        "    if is_near_zero_variance(numeric_data[col]):\n",
        "        near_zero_variance_columns.append(col)\n",
        "\n",
        "# Print the indices or column names with near-zero variance\n",
        "print(\"Columns with near-zero variance:\")\n",
        "print(near_zero_variance_columns)\n",
        "\n",
        "# Drop columns with near-zero variance\n",
        "#numeric_data.drop(columns=near_zero_variance_columns, inplace=True)\n"
      ]
    },
    {
      "cell_type": "code",
      "execution_count": 55,
      "metadata": {
        "id": "P_9h04nVFl3M",
        "colab": {
          "base_uri": "https://localhost:8080/",
          "height": 1000
        },
        "outputId": "011aaac4-9eef-4ec9-fe31-b580299caee1"
      },
      "outputs": [
        {
          "output_type": "stream",
          "name": "stdout",
          "text": [
            "Number of outliers: 127\n",
            "Skewness:\n",
            "id               0.951165\n",
            "vote_average    -2.045109\n",
            "vote_count       3.051876\n",
            "runtime         -1.449774\n",
            "budget           2.082128\n",
            "popularity      10.652583\n",
            "dtype: float64\n"
          ]
        },
        {
          "output_type": "display_data",
          "data": {
            "text/plain": [
              "<Figure size 1200x600 with 1 Axes>"
            ],
            "image/png": "[encoded data removed]"
          },
          "metadata": {}
        },
        {
          "output_type": "display_data",
          "data": {
            "text/plain": [
              "<Figure size 1200x800 with 2 Axes>"
            ],
            "image/png": "[encoded data removed]"
          },
          "metadata": {}
        }
      ],
      "source": [
        "# Need to Check for Outliers\n",
        "import pandas as pd\n",
        "import numpy as np\n",
        "import seaborn as sns\n",
        "import matplotlib.pyplot as plt\n",
        "# Check for outliers\n",
        "def detect_outliers(data, threshold=3):\n",
        "    z_scores = np.abs((data - data.mean()) / data.std())\n",
        "    return (z_scores > threshold).any(axis=1)\n",
        "\n",
        "outliers = detect_outliers(numeric_data)\n",
        "print(\"Number of outliers:\", outliers.sum())\n",
        "\n",
        "# Check skewness\n",
        "skewness = numeric_data.skew()\n",
        "print(\"Skewness:\")\n",
        "print(skewness)\n",
        "\n",
        "# Visualize skewness\n",
        "plt.figure(figsize=(12, 6))\n",
        "sns.barplot(x=skewness.index, y=skewness.values)\n",
        "plt.title('Skewness of Numeric Features')\n",
        "plt.xticks(rotation=45)\n",
        "plt.ylabel('Skewness')\n",
        "plt.show()\n",
        "\n",
        "# Check correlations\n",
        "correlation_matrix = numeric_data.corr()\n",
        "\n",
        "# Visualize correlation matrix\n",
        "plt.figure(figsize=(12, 8))\n",
        "sns.heatmap(correlation_matrix, annot=True, cmap='coolwarm', fmt=\".2f\")\n",
        "plt.title('Correlation Matrix of Numeric Features')\n",
        "plt.show()\n"
      ]
    },
    {
      "cell_type": "code",
      "source": [
        "from scipy.stats import boxcox\n",
        "\n",
        "# Apply Box-Cox transformation to reduce skewness for all numeric features\n",
        "for feature in numeric_data.columns:\n",
        "    numeric_data[feature], _ = boxcox(numeric_data[feature] + 1)  # Adding 1 to handle zero values\n",
        "\n",
        "# Recheck Skewness\n",
        "skewness = numeric_data.skew()\n",
        "print(\"Skewness:\")\n",
        "print(skewness)\n",
        "\n",
        "# Visualize skewness\n",
        "plt.figure(figsize=(12, 6))\n",
        "sns.barplot(x=skewness.index, y=skewness.values)\n",
        "plt.title('Skewness of Numeric Features After BoxCox')\n",
        "plt.xticks(rotation=45)\n",
        "plt.ylabel('Skewness')\n",
        "plt.show()\n",
        "\n",
        "# detect outliers after transformation\n",
        "def detect_outliers(data, threshold=3):\n",
        "    z_scores = np.abs((data - data.mean()) / data.std())\n",
        "    return (z_scores > threshold).any(axis=1)\n",
        "\n",
        "outliers = detect_outliers(numeric_data)\n",
        "print(\"Number of outliers After Box Cox:\", outliers.sum())\n",
        "\n"
      ],
      "metadata": {
        "colab": {
          "base_uri": "https://localhost:8080/",
          "height": 783
        },
        "id": "LC83AK2gFQtF",
        "outputId": "f06dac87-44a3-43fd-d8b4-d6b515364331"
      },
      "execution_count": 56,
      "outputs": [
        {
          "output_type": "stream",
          "name": "stdout",
          "text": [
            "Skewness:\n",
            "id             -0.187793\n",
            "vote_average   -0.279025\n",
            "vote_count     -0.061265\n",
            "runtime        -0.603186\n",
            "budget         -0.072158\n",
            "popularity     -0.003517\n",
            "dtype: float64\n"
          ]
        },
        {
          "output_type": "display_data",
          "data": {
            "text/plain": [
              "<Figure size 1200x600 with 1 Axes>"
            ],
            "image/png": "[encoded data removed]"
          },
          "metadata": {}
        },
        {
          "output_type": "stream",
          "name": "stdout",
          "text": [
            "Number of outliers After Box Cox: 27\n"
          ]
        }
      ]
    },
    {
      "cell_type": "markdown",
      "source": [
        "No predictors are highly skewed anymore\n",
        "Outliers were drastically reduced to only 24"
      ],
      "metadata": {
        "id": "BpkML27FF8Ws"
      }
    },
    {
      "cell_type": "code",
      "source": [
        "# Compute the correlation matrix\n",
        "correlation_matrix = numeric_data.corr()\n",
        "\n",
        "# Print out highly correlated variables\n",
        "highly_correlated_vars = correlation_matrix[(correlation_matrix > 0.75) & (correlation_matrix < 1.0)]\n",
        "highly_correlated_vars = highly_correlated_vars.dropna(axis=1, how='all').dropna(axis=0, how='all')\n",
        "\n",
        "print(\"Highly correlated variables:\")\n",
        "print(highly_correlated_vars)\n"
      ],
      "metadata": {
        "colab": {
          "base_uri": "https://localhost:8080/"
        },
        "id": "adISDg8vGRLb",
        "outputId": "36410852-e953-4a61-dab6-24185784e625"
      },
      "execution_count": 57,
      "outputs": [
        {
          "output_type": "stream",
          "name": "stdout",
          "text": [
            "Highly correlated variables:\n",
            "            vote_count  popularity\n",
            "vote_count         NaN    0.883102\n",
            "popularity    0.883102         NaN\n"
          ]
        }
      ]
    },
    {
      "cell_type": "markdown",
      "source": [
        "Remove one of these since its almost identical information"
      ],
      "metadata": {
        "id": "C4-AdqDTHdM5"
      }
    },
    {
      "cell_type": "code",
      "source": [
        "numeric_data.drop(columns=['popularity'], inplace=True)"
      ],
      "metadata": {
        "id": "9JRwOAhAHhIy"
      },
      "execution_count": 58,
      "outputs": []
    },
    {
      "cell_type": "code",
      "source": [
        "animation_processed[ ['vote_average', 'vote_count', 'runtime', 'budget'] ] = numeric_data[['vote_average', 'vote_count', 'runtime', 'budget']]"
      ],
      "metadata": {
        "id": "gRJm1vo5lrUn",
        "colab": {
          "base_uri": "https://localhost:8080/"
        },
        "outputId": "bcd59505-6d97-43e3-90a9-6e2902775ba9"
      },
      "execution_count": 59,
      "outputs": [
        {
          "output_type": "stream",
          "name": "stderr",
          "text": [
            "<ipython-input-59-b78b549e94b1>:1: SettingWithCopyWarning: \n",
            "A value is trying to be set on a copy of a slice from a DataFrame.\n",
            "Try using .loc[row_indexer,col_indexer] = value instead\n",
            "\n",
            "See the caveats in the documentation: https://pandas.pydata.org/pandas-docs/stable/user_guide/indexing.html#returning-a-view-versus-a-copy\n",
            "  animation_processed[ ['vote_average', 'vote_count', 'runtime', 'budget'] ] = numeric_data[['vote_average', 'vote_count', 'runtime', 'budget']]\n"
          ]
        }
      ]
    },
    {
      "cell_type": "markdown",
      "metadata": {
        "id": "HL_OyEE5e-dN"
      },
      "source": [
        "## Text Preprocessing for BERT"
      ]
    },
    {
      "cell_type": "code",
      "execution_count": 60,
      "metadata": {
        "id": "sN7zOpPThEys",
        "colab": {
          "base_uri": "https://localhost:8080/"
        },
        "outputId": "7a48e503-215b-4b37-900f-1efb3cb8abef"
      },
      "outputs": [
        {
          "output_type": "stream",
          "name": "stderr",
          "text": [
            "<ipython-input-60-82a8d8798fef>:39: SettingWithCopyWarning: \n",
            "A value is trying to be set on a copy of a slice from a DataFrame.\n",
            "Try using .loc[row_indexer,col_indexer] = value instead\n",
            "\n",
            "See the caveats in the documentation: https://pandas.pydata.org/pandas-docs/stable/user_guide/indexing.html#returning-a-view-versus-a-copy\n",
            "  animation_processed['overview'] = overview_embeddings.numpy()\n"
          ]
        }
      ],
      "source": [
        "from transformers import AutoTokenizer, BertModel\n",
        "import torch\n",
        "\n",
        "# Load pre-trained BERT model and tokenizer\n",
        "tokenizer = AutoTokenizer.from_pretrained(\"google-bert/bert-base-cased\")\n",
        "model = BertModel.from_pretrained(\"google-bert/bert-base-cased\")\n",
        "\n",
        "# Adjust batch size and sequence length\n",
        "batch_size = 8\n",
        "max_seq_length = 512\n",
        "\n",
        "# Tokenize and process in batches\n",
        "num_samples = len(animation_processed['overview'])\n",
        "overview_embeddings = []\n",
        "\n",
        "for i in range(0, num_samples, batch_size):\n",
        "    batch_overviews = animation_processed['overview'][i:i+batch_size].tolist()\n",
        "    tokenized_overviews = tokenizer(batch_overviews, max_length=max_seq_length, truncation=True, padding=True, return_tensors=\"pt\")\n",
        "\n",
        "    input_ids_batch = tokenized_overviews['input_ids']\n",
        "    attention_mask_batch = tokenized_overviews['attention_mask']\n",
        "\n",
        "    with torch.no_grad():\n",
        "        outputs = model(input_ids_batch, attention_mask=attention_mask_batch)\n",
        "\n",
        "    # Extract BERT embeddings\n",
        "    bert_embeddings = outputs.last_hidden_state\n",
        "\n",
        "    # Compute mean over sequence length dimension\n",
        "    overview_embeddings_batch = torch.mean(bert_embeddings, dim=1)\n",
        "\n",
        "    # Append to list\n",
        "    overview_embeddings.append(overview_embeddings_batch)\n",
        "\n",
        "# Concatenate embeddings from all batches\n",
        "overview_embeddings = torch.cat(overview_embeddings, dim=0)\n",
        "\n",
        "# Update animation_processed with embeddings\n",
        "animation_processed['overview'] = overview_embeddings.numpy()\n"
      ]
    },
    {
      "cell_type": "markdown",
      "metadata": {
        "id": "OHaLEr1Yy5Rv"
      },
      "source": [
        "## Split the Data"
      ]
    },
    {
      "cell_type": "code",
      "execution_count": 61,
      "metadata": {
        "id": "5Pd8lCpvy4xQ"
      },
      "outputs": [],
      "source": [
        "from sklearn.preprocessing import StandardScaler\n",
        "from sklearn.model_selection import train_test_split\n",
        "\n",
        "\n",
        "# Extract relevant features for prediction\n",
        "X = animation_processed[['vote_average', 'vote_count', 'runtime', 'overview', 'release_month', 'release_year',\n",
        "                         'release_day_of_week', 'release_season', 'budget']]\n",
        "y = animation_processed['revenue']\n",
        "\n",
        "# Split data into train and test sets\n",
        "X_train, X_test, y_train, y_test = train_test_split(X, y, test_size=0.2, random_state=42)\n",
        "\n",
        "# Scale the features\n",
        "scaler = StandardScaler()\n",
        "X_train_scaled = scaler.fit_transform(X_train)\n",
        "X_test_scaled = scaler.transform(X_test)\n",
        "# Scale the target variable\n",
        "y_scaler = StandardScaler()\n",
        "y_train_scaled = y_scaler.fit_transform(y_train.values.reshape(-1, 1)).flatten()\n",
        "y_test_scaled = y_scaler.transform(y_test.values.reshape(-1, 1)).flatten()\n"
      ]
    },
    {
      "cell_type": "code",
      "source": [
        "!pip install torch"
      ],
      "metadata": {
        "colab": {
          "base_uri": "https://localhost:8080/"
        },
        "id": "c6IbDwO0flR6",
        "outputId": "aa36d3d4-7409-470a-df03-7341d9cadb3e"
      },
      "execution_count": 62,
      "outputs": [
        {
          "output_type": "stream",
          "name": "stdout",
          "text": [
            "Requirement already satisfied: torch in /usr/local/lib/python3.10/dist-packages (2.2.1+cu121)\n",
            "Requirement already satisfied: filelock in /usr/local/lib/python3.10/dist-packages (from torch) (3.13.4)\n",
            "Requirement already satisfied: typing-extensions>=4.8.0 in /usr/local/lib/python3.10/dist-packages (from torch) (4.11.0)\n",
            "Requirement already satisfied: sympy in /usr/local/lib/python3.10/dist-packages (from torch) (1.12)\n",
            "Requirement already satisfied: networkx in /usr/local/lib/python3.10/dist-packages (from torch) (3.3)\n",
            "Requirement already satisfied: jinja2 in /usr/local/lib/python3.10/dist-packages (from torch) (3.1.3)\n",
            "Requirement already satisfied: fsspec in /usr/local/lib/python3.10/dist-packages (from torch) (2023.6.0)\n",
            "Collecting nvidia-cuda-nvrtc-cu12==12.1.105 (from torch)\n",
            "  Using cached nvidia_cuda_nvrtc_cu12-12.1.105-py3-none-manylinux1_x86_64.whl (23.7 MB)\n",
            "Collecting nvidia-cuda-runtime-cu12==12.1.105 (from torch)\n",
            "  Using cached nvidia_cuda_runtime_cu12-12.1.105-py3-none-manylinux1_x86_64.whl (823 kB)\n",
            "Collecting nvidia-cuda-cupti-cu12==12.1.105 (from torch)\n",
            "  Using cached nvidia_cuda_cupti_cu12-12.1.105-py3-none-manylinux1_x86_64.whl (14.1 MB)\n",
            "Collecting nvidia-cudnn-cu12==8.9.2.26 (from torch)\n",
            "  Using cached nvidia_cudnn_cu12-8.9.2.26-py3-none-manylinux1_x86_64.whl (731.7 MB)\n",
            "Collecting nvidia-cublas-cu12==12.1.3.1 (from torch)\n",
            "  Using cached nvidia_cublas_cu12-12.1.3.1-py3-none-manylinux1_x86_64.whl (410.6 MB)\n",
            "Collecting nvidia-cufft-cu12==11.0.2.54 (from torch)\n",
            "  Using cached nvidia_cufft_cu12-11.0.2.54-py3-none-manylinux1_x86_64.whl (121.6 MB)\n",
            "Collecting nvidia-curand-cu12==10.3.2.106 (from torch)\n",
            "  Using cached nvidia_curand_cu12-10.3.2.106-py3-none-manylinux1_x86_64.whl (56.5 MB)\n",
            "Collecting nvidia-cusolver-cu12==11.4.5.107 (from torch)\n",
            "  Using cached nvidia_cusolver_cu12-11.4.5.107-py3-none-manylinux1_x86_64.whl (124.2 MB)\n",
            "Collecting nvidia-cusparse-cu12==12.1.0.106 (from torch)\n",
            "  Using cached nvidia_cusparse_cu12-12.1.0.106-py3-none-manylinux1_x86_64.whl (196.0 MB)\n",
            "Collecting nvidia-nccl-cu12==2.19.3 (from torch)\n",
            "  Using cached nvidia_nccl_cu12-2.19.3-py3-none-manylinux1_x86_64.whl (166.0 MB)\n",
            "Collecting nvidia-nvtx-cu12==12.1.105 (from torch)\n",
            "  Using cached nvidia_nvtx_cu12-12.1.105-py3-none-manylinux1_x86_64.whl (99 kB)\n",
            "Requirement already satisfied: triton==2.2.0 in /usr/local/lib/python3.10/dist-packages (from torch) (2.2.0)\n",
            "Collecting nvidia-nvjitlink-cu12 (from nvidia-cusolver-cu12==11.4.5.107->torch)\n",
            "  Using cached nvidia_nvjitlink_cu12-12.4.127-py3-none-manylinux2014_x86_64.whl (21.1 MB)\n",
            "Requirement already satisfied: MarkupSafe>=2.0 in /usr/local/lib/python3.10/dist-packages (from jinja2->torch) (2.1.5)\n",
            "Requirement already satisfied: mpmath>=0.19 in /usr/local/lib/python3.10/dist-packages (from sympy->torch) (1.3.0)\n",
            "Installing collected packages: nvidia-nvtx-cu12, nvidia-nvjitlink-cu12, nvidia-nccl-cu12, nvidia-curand-cu12, nvidia-cufft-cu12, nvidia-cuda-runtime-cu12, nvidia-cuda-nvrtc-cu12, nvidia-cuda-cupti-cu12, nvidia-cublas-cu12, nvidia-cusparse-cu12, nvidia-cudnn-cu12, nvidia-cusolver-cu12\n",
            "Successfully installed nvidia-cublas-cu12-12.1.3.1 nvidia-cuda-cupti-cu12-12.1.105 nvidia-cuda-nvrtc-cu12-12.1.105 nvidia-cuda-runtime-cu12-12.1.105 nvidia-cudnn-cu12-8.9.2.26 nvidia-cufft-cu12-11.0.2.54 nvidia-curand-cu12-10.3.2.106 nvidia-cusolver-cu12-11.4.5.107 nvidia-cusparse-cu12-12.1.0.106 nvidia-nccl-cu12-2.19.3 nvidia-nvjitlink-cu12-12.4.127 nvidia-nvtx-cu12-12.1.105\n"
          ]
        }
      ]
    },
    {
      "cell_type": "markdown",
      "metadata": {
        "id": "4N37jwuLsfzV"
      },
      "source": [
        "## Train Models"
      ]
    },
    {
      "cell_type": "code",
      "execution_count": 72,
      "metadata": {
        "id": "-4ijhrKKaVgq"
      },
      "outputs": [],
      "source": [
        "from sklearn.model_selection import GridSearchCV, KFold\n",
        "from sklearn.metrics import mean_absolute_error, mean_squared_error, r2_score\n",
        "\n",
        "def train_model(model, grid, x, y):\n",
        "    cv = KFold(n_splits=10, shuffle=True, random_state=1)\n",
        "    scoring = {'MAE': 'neg_mean_absolute_error',\n",
        "               'MSE': 'neg_mean_squared_error',\n",
        "               'R2': 'r2'}\n",
        "    grid_search = GridSearchCV(estimator=model, param_grid=grid,\n",
        "                               n_jobs=-1, cv=cv, scoring=scoring,\n",
        "                               refit='R2', error_score=0)\n",
        "    grid_result = grid_search.fit(x, y)\n",
        "    best_model = grid_result.best_estimator_\n",
        "    best_params = grid_result.best_params_\n",
        "\n",
        "    # Training the best model using the entire dataset\n",
        "    best_model.fit(x, y)\n",
        "\n",
        "    # Predicting on the same dataset to compute training metrics\n",
        "    y_pred = best_model.predict(x)\n",
        "\n",
        "    n = len(y)  # Number of observations\n",
        "    p = x.shape[1]  # Number of features\n",
        "    r2 = r2_score(y, y_pred)\n",
        "    adjusted_r2 = 1 - (1 - r2) * (n - 1) / (n - p - 1)\n",
        "\n",
        "    # Printing training metrics\n",
        "    print(\"Training Metrics:\")\n",
        "    print(\"-----------------\")\n",
        "    print(\"Best R-squared on training data: %f using the following parameters: %s\" % (r2_score(y, y_pred), best_params))\n",
        "    print(\"Best Adjusted R-squared on training data: %f\" % adjusted_r2)\n",
        "    print(\"Mean Absolute Error on training data: %f\" % mean_absolute_error(y, y_pred))\n",
        "    print(\"Mean Squared Error on training data: %f\" % mean_squared_error(y, y_pred))\n",
        "\n",
        "    # Additional information: printing cross-validation results\n",
        "    print(\"\\nCross-Validation Metrics:\")\n",
        "    print(\"-------------------------\")\n",
        "    means = grid_result.cv_results_['mean_test_R2']\n",
        "    stds = grid_result.cv_results_['std_test_R2']\n",
        "    params = grid_result.cv_results_['params']\n",
        "    for mean, stdev, param in zip(means, stds, params):\n",
        "        print(\"R-squared: %f (%f) with parameters: %s\" % (mean, stdev, param))\n",
        "    return best_model\n",
        "# Example usage:\n",
        "# train_model(your_model, your_grid, your_X, your_y)\n"
      ]
    },
    {
      "cell_type": "code",
      "execution_count": 73,
      "metadata": {
        "colab": {
          "base_uri": "https://localhost:8080/",
          "height": 302
        },
        "id": "2mj0HDmQfdXM",
        "outputId": "afac01ae-6bf9-4b48-f6a8-2f173da38b28"
      },
      "outputs": [
        {
          "output_type": "stream",
          "name": "stderr",
          "text": [
            "/usr/local/lib/python3.10/dist-packages/joblib/externals/loky/backend/fork_exec.py:38: RuntimeWarning: os.fork() was called. os.fork() is incompatible with multithreaded code, and JAX is multithreaded, so this will likely lead to a deadlock.\n",
            "  pid = os.fork()\n"
          ]
        },
        {
          "output_type": "stream",
          "name": "stdout",
          "text": [
            "Training Metrics:\n",
            "-----------------\n",
            "Best R-squared on training data: 0.444849 using the following parameters: {}\n",
            "Best Adjusted R-squared on training data: 0.438658\n",
            "Mean Absolute Error on training data: 0.491393\n",
            "Mean Squared Error on training data: 0.555151\n",
            "\n",
            "Cross-Validation Metrics:\n",
            "-------------------------\n",
            "R-squared: 0.423529 (0.059571) with parameters: {}\n"
          ]
        },
        {
          "output_type": "execute_result",
          "data": {
            "text/plain": [
              "LinearRegression()"
            ],
            "text/html": [
              "<style>#sk-container-id-5 {color: black;background-color: white;}#sk-container-id-5 pre{padding: 0;}#sk-container-id-5 div.sk-toggleable {background-color: white;}#sk-container-id-5 label.sk-toggleable__label {cursor: pointer;display: block;width: 100%;margin-bottom: 0;padding: 0.3em;box-sizing: border-box;text-align: center;}#sk-container-id-5 label.sk-toggleable__label-arrow:before {content: \"▸\";float: left;margin-right: 0.25em;color: #696969;}#sk-container-id-5 label.sk-toggleable__label-arrow:hover:before {color: black;}#sk-container-id-5 div.sk-estimator:hover label.sk-toggleable__label-arrow:before {color: black;}#sk-container-id-5 div.sk-toggleable__content {max-height: 0;max-width: 0;overflow: hidden;text-align: left;background-color: #f0f8ff;}#sk-container-id-5 div.sk-toggleable__content pre {margin: 0.2em;color: black;border-radius: 0.25em;background-color: #f0f8ff;}#sk-container-id-5 input.sk-toggleable__control:checked~div.sk-toggleable__content {max-height: 200px;max-width: 100%;overflow: auto;}#sk-container-id-5 input.sk-toggleable__control:checked~label.sk-toggleable__label-arrow:before {content: \"▾\";}#sk-container-id-5 div.sk-estimator input.sk-toggleable__control:checked~label.sk-toggleable__label {background-color: #d4ebff;}#sk-container-id-5 div.sk-label input.sk-toggleable__control:checked~label.sk-toggleable__label {background-color: #d4ebff;}#sk-container-id-5 input.sk-hidden--visually {border: 0;clip: rect(1px 1px 1px 1px);clip: rect(1px, 1px, 1px, 1px);height: 1px;margin: -1px;overflow: hidden;padding: 0;position: absolute;width: 1px;}#sk-container-id-5 div.sk-estimator {font-family: monospace;background-color: #f0f8ff;border: 1px dotted black;border-radius: 0.25em;box-sizing: border-box;margin-bottom: 0.5em;}#sk-container-id-5 div.sk-estimator:hover {background-color: #d4ebff;}#sk-container-id-5 div.sk-parallel-item::after {content: \"\";width: 100%;border-bottom: 1px solid gray;flex-grow: 1;}#sk-container-id-5 div.sk-label:hover label.sk-toggleable__label {background-color: #d4ebff;}#sk-container-id-5 div.sk-serial::before {content: \"\";position: absolute;border-left: 1px solid gray;box-sizing: border-box;top: 0;bottom: 0;left: 50%;z-index: 0;}#sk-container-id-5 div.sk-serial {display: flex;flex-direction: column;align-items: center;background-color: white;padding-right: 0.2em;padding-left: 0.2em;position: relative;}#sk-container-id-5 div.sk-item {position: relative;z-index: 1;}#sk-container-id-5 div.sk-parallel {display: flex;align-items: stretch;justify-content: center;background-color: white;position: relative;}#sk-container-id-5 div.sk-item::before, #sk-container-id-5 div.sk-parallel-item::before {content: \"\";position: absolute;border-left: 1px solid gray;box-sizing: border-box;top: 0;bottom: 0;left: 50%;z-index: -1;}#sk-container-id-5 div.sk-parallel-item {display: flex;flex-direction: column;z-index: 1;position: relative;background-color: white;}#sk-container-id-5 div.sk-parallel-item:first-child::after {align-self: flex-end;width: 50%;}#sk-container-id-5 div.sk-parallel-item:last-child::after {align-self: flex-start;width: 50%;}#sk-container-id-5 div.sk-parallel-item:only-child::after {width: 0;}#sk-container-id-5 div.sk-dashed-wrapped {border: 1px dashed gray;margin: 0 0.4em 0.5em 0.4em;box-sizing: border-box;padding-bottom: 0.4em;background-color: white;}#sk-container-id-5 div.sk-label label {font-family: monospace;font-weight: bold;display: inline-block;line-height: 1.2em;}#sk-container-id-5 div.sk-label-container {text-align: center;}#sk-container-id-5 div.sk-container {/* jupyter's `normalize.less` sets `[hidden] { display: none; }` but bootstrap.min.css set `[hidden] { display: none !important; }` so we also need the `!important` here to be able to override the default hidden behavior on the sphinx rendered scikit-learn.org. See: https://github.com/scikit-learn/scikit-learn/issues/21755 */display: inline-block !important;position: relative;}#sk-container-id-5 div.sk-text-repr-fallback {display: none;}</style><div id=\"sk-container-id-5\" class=\"sk-top-container\"><div class=\"sk-text-repr-fallback\"><pre>LinearRegression()</pre><b>In a Jupyter environment, please rerun this cell to show the HTML representation or trust the notebook. <br />On GitHub, the HTML representation is unable to render, please try loading this page with nbviewer.org.</b></div><div class=\"sk-container\" hidden><div class=\"sk-item\"><div class=\"sk-estimator sk-toggleable\"><input class=\"sk-toggleable__control sk-hidden--visually\" id=\"sk-estimator-id-5\" type=\"checkbox\" checked><label for=\"sk-estimator-id-5\" class=\"sk-toggleable__label sk-toggleable__label-arrow\">LinearRegression</label><div class=\"sk-toggleable__content\"><pre>LinearRegression()</pre></div></div></div></div></div>"
            ]
          },
          "metadata": {},
          "execution_count": 73
        }
      ],
      "source": [
        "#Linear Regression\n",
        "from sklearn.linear_model import LinearRegression\n",
        "from sklearn.model_selection import GridSearchCV\n",
        "model = LinearRegression()\n",
        "grid = {}\n",
        "train_model(model, grid, X_train_scaled, y_train_scaled)"
      ]
    },
    {
      "cell_type": "code",
      "source": [
        "model = LinearRegression()\n",
        "\n",
        "# Fit the model with the training data\n",
        "model.fit(X_train_scaled, y_train_scaled)\n",
        "\n",
        "# Make predictions on the test data\n",
        "pred = model.predict(X_test_scaled)\n",
        "\n",
        "print(\"Testing Metrics:\")\n",
        "print(\"-----------------\")\n",
        "print(\"Best R-squared on testing data: %f \" % (r2_score(y_test_scaled, pred)))\n",
        "print(\"Mean Absolute Error on testing data: %f\" % mean_absolute_error(y_test_scaled, pred))\n",
        "print(\"Mean Squared Error on testing data: %f\" % mean_squared_error(y_test_scaled, pred))"
      ],
      "metadata": {
        "colab": {
          "base_uri": "https://localhost:8080/"
        },
        "id": "3F_1a8s5nHY-",
        "outputId": "e33d94b9-e0dc-47c9-c88d-3f94361c9629"
      },
      "execution_count": 75,
      "outputs": [
        {
          "output_type": "stream",
          "name": "stdout",
          "text": [
            "Testing Metrics:\n",
            "-----------------\n",
            "Best R-squared on testing data: 0.362976 \n",
            "Mean Absolute Error on testing data: 0.582805\n",
            "Mean Squared Error on testing data: 0.844603\n"
          ]
        }
      ]
    },
    {
      "cell_type": "code",
      "execution_count": null,
      "metadata": {
        "colab": {
          "base_uri": "https://localhost:8080/",
          "height": 248
        },
        "id": "Pl7ji_hQqm9T",
        "outputId": "014252e6-79c9-4dae-a6fe-1388517dee67"
      },
      "outputs": [
        {
          "output_type": "stream",
          "name": "stdout",
          "text": [
            "Training Metrics:\n",
            "-----------------\n",
            "Best R-squared on training data: 0.725812 using the following parameters: {}\n",
            "Best Adjusted R-squared on training data: 0.722754\n",
            "Mean Absolute Error on training data: 0.226368\n",
            "Mean Squared Error on training data: 0.274188\n",
            "\n",
            "Cross-Validation Metrics:\n",
            "-------------------------\n",
            "R-squared: 0.672617 (0.085246) with parameters: {}\n"
          ]
        },
        {
          "output_type": "execute_result",
          "data": {
            "text/plain": [
              "SVR()"
            ],
            "text/html": [
              "<style>#sk-container-id-2 {color: black;background-color: white;}#sk-container-id-2 pre{padding: 0;}#sk-container-id-2 div.sk-toggleable {background-color: white;}#sk-container-id-2 label.sk-toggleable__label {cursor: pointer;display: block;width: 100%;margin-bottom: 0;padding: 0.3em;box-sizing: border-box;text-align: center;}#sk-container-id-2 label.sk-toggleable__label-arrow:before {content: \"▸\";float: left;margin-right: 0.25em;color: #696969;}#sk-container-id-2 label.sk-toggleable__label-arrow:hover:before {color: black;}#sk-container-id-2 div.sk-estimator:hover label.sk-toggleable__label-arrow:before {color: black;}#sk-container-id-2 div.sk-toggleable__content {max-height: 0;max-width: 0;overflow: hidden;text-align: left;background-color: #f0f8ff;}#sk-container-id-2 div.sk-toggleable__content pre {margin: 0.2em;color: black;border-radius: 0.25em;background-color: #f0f8ff;}#sk-container-id-2 input.sk-toggleable__control:checked~div.sk-toggleable__content {max-height: 200px;max-width: 100%;overflow: auto;}#sk-container-id-2 input.sk-toggleable__control:checked~label.sk-toggleable__label-arrow:before {content: \"▾\";}#sk-container-id-2 div.sk-estimator input.sk-toggleable__control:checked~label.sk-toggleable__label {background-color: #d4ebff;}#sk-container-id-2 div.sk-label input.sk-toggleable__control:checked~label.sk-toggleable__label {background-color: #d4ebff;}#sk-container-id-2 input.sk-hidden--visually {border: 0;clip: rect(1px 1px 1px 1px);clip: rect(1px, 1px, 1px, 1px);height: 1px;margin: -1px;overflow: hidden;padding: 0;position: absolute;width: 1px;}#sk-container-id-2 div.sk-estimator {font-family: monospace;background-color: #f0f8ff;border: 1px dotted black;border-radius: 0.25em;box-sizing: border-box;margin-bottom: 0.5em;}#sk-container-id-2 div.sk-estimator:hover {background-color: #d4ebff;}#sk-container-id-2 div.sk-parallel-item::after {content: \"\";width: 100%;border-bottom: 1px solid gray;flex-grow: 1;}#sk-container-id-2 div.sk-label:hover label.sk-toggleable__label {background-color: #d4ebff;}#sk-container-id-2 div.sk-serial::before {content: \"\";position: absolute;border-left: 1px solid gray;box-sizing: border-box;top: 0;bottom: 0;left: 50%;z-index: 0;}#sk-container-id-2 div.sk-serial {display: flex;flex-direction: column;align-items: center;background-color: white;padding-right: 0.2em;padding-left: 0.2em;position: relative;}#sk-container-id-2 div.sk-item {position: relative;z-index: 1;}#sk-container-id-2 div.sk-parallel {display: flex;align-items: stretch;justify-content: center;background-color: white;position: relative;}#sk-container-id-2 div.sk-item::before, #sk-container-id-2 div.sk-parallel-item::before {content: \"\";position: absolute;border-left: 1px solid gray;box-sizing: border-box;top: 0;bottom: 0;left: 50%;z-index: -1;}#sk-container-id-2 div.sk-parallel-item {display: flex;flex-direction: column;z-index: 1;position: relative;background-color: white;}#sk-container-id-2 div.sk-parallel-item:first-child::after {align-self: flex-end;width: 50%;}#sk-container-id-2 div.sk-parallel-item:last-child::after {align-self: flex-start;width: 50%;}#sk-container-id-2 div.sk-parallel-item:only-child::after {width: 0;}#sk-container-id-2 div.sk-dashed-wrapped {border: 1px dashed gray;margin: 0 0.4em 0.5em 0.4em;box-sizing: border-box;padding-bottom: 0.4em;background-color: white;}#sk-container-id-2 div.sk-label label {font-family: monospace;font-weight: bold;display: inline-block;line-height: 1.2em;}#sk-container-id-2 div.sk-label-container {text-align: center;}#sk-container-id-2 div.sk-container {/* jupyter's `normalize.less` sets `[hidden] { display: none; }` but bootstrap.min.css set `[hidden] { display: none !important; }` so we also need the `!important` here to be able to override the default hidden behavior on the sphinx rendered scikit-learn.org. See: https://github.com/scikit-learn/scikit-learn/issues/21755 */display: inline-block !important;position: relative;}#sk-container-id-2 div.sk-text-repr-fallback {display: none;}</style><div id=\"sk-container-id-2\" class=\"sk-top-container\"><div class=\"sk-text-repr-fallback\"><pre>SVR()</pre><b>In a Jupyter environment, please rerun this cell to show the HTML representation or trust the notebook. <br />On GitHub, the HTML representation is unable to render, please try loading this page with nbviewer.org.</b></div><div class=\"sk-container\" hidden><div class=\"sk-item\"><div class=\"sk-estimator sk-toggleable\"><input class=\"sk-toggleable__control sk-hidden--visually\" id=\"sk-estimator-id-2\" type=\"checkbox\" checked><label for=\"sk-estimator-id-2\" class=\"sk-toggleable__label sk-toggleable__label-arrow\">SVR</label><div class=\"sk-toggleable__content\"><pre>SVR()</pre></div></div></div></div></div>"
            ]
          },
          "metadata": {},
          "execution_count": 29
        }
      ],
      "source": [
        "#SVM\n",
        "from sklearn.svm import SVR\n",
        "model = SVR()\n",
        "grid = {}\n",
        "train_model(model, grid, X_train_scaled, y_train_scaled)"
      ]
    },
    {
      "cell_type": "code",
      "source": [
        "model = SVR()\n",
        "\n",
        "# Define the hyperparameter grid for tuning\n",
        "param_grid = {\n",
        "    'C': [0.1, 1, 10],\n",
        "    'kernel': ['linear', 'rbf'],\n",
        "    'gamma': ['scale', 'auto']\n",
        "}\n",
        "\n",
        "# Train the model using the train_model function\n",
        "best_model = train_model(model, param_grid, X_train_scaled, y_train_scaled)\n",
        "\n",
        "# Make predictions on the test set using the best model\n",
        "y_pred_test = best_model.predict(X_test_scaled)\n",
        "\n",
        "print(\"\\nTesting Metrics:\")\n",
        "print(\"-----------------\")\n",
        "print(\"R-squared on testing data: %f\" % r2_score(y_test_scaled, y_pred_test))\n",
        "print(\"Mean Absolute Error on testing data: %f\" % mean_absolute_error(y_test_scaled, y_pred_test))\n",
        "print(\"Mean Squared Error on testing data: %f\" % mean_squared_error(y_test_scaled, y_pred_test))"
      ],
      "metadata": {
        "colab": {
          "base_uri": "https://localhost:8080/"
        },
        "id": "FQWcEWPHnRTD",
        "outputId": "6e5eadd0-50c7-47ce-989e-e42f08d4ada7"
      },
      "execution_count": 76,
      "outputs": [
        {
          "output_type": "stream",
          "name": "stderr",
          "text": [
            "/usr/local/lib/python3.10/dist-packages/joblib/externals/loky/backend/fork_exec.py:38: RuntimeWarning: os.fork() was called. os.fork() is incompatible with multithreaded code, and JAX is multithreaded, so this will likely lead to a deadlock.\n",
            "  pid = os.fork()\n"
          ]
        },
        {
          "output_type": "stream",
          "name": "stdout",
          "text": [
            "Training Metrics:\n",
            "-----------------\n",
            "Best R-squared on training data: 0.850757 using the following parameters: {'C': 10, 'gamma': 'auto', 'kernel': 'rbf'}\n",
            "Best Adjusted R-squared on training data: 0.849092\n",
            "Mean Absolute Error on training data: 0.172031\n",
            "Mean Squared Error on training data: 0.149243\n",
            "\n",
            "Cross-Validation Metrics:\n",
            "-------------------------\n",
            "R-squared: 0.267536 (0.061148) with parameters: {'C': 0.1, 'gamma': 'scale', 'kernel': 'linear'}\n",
            "R-squared: 0.464732 (0.078891) with parameters: {'C': 0.1, 'gamma': 'scale', 'kernel': 'rbf'}\n",
            "R-squared: 0.267536 (0.061148) with parameters: {'C': 0.1, 'gamma': 'auto', 'kernel': 'linear'}\n",
            "R-squared: 0.464752 (0.078864) with parameters: {'C': 0.1, 'gamma': 'auto', 'kernel': 'rbf'}\n",
            "R-squared: 0.269992 (0.061268) with parameters: {'C': 1, 'gamma': 'scale', 'kernel': 'linear'}\n",
            "R-squared: 0.672617 (0.085246) with parameters: {'C': 1, 'gamma': 'scale', 'kernel': 'rbf'}\n",
            "R-squared: 0.269992 (0.061268) with parameters: {'C': 1, 'gamma': 'auto', 'kernel': 'linear'}\n",
            "R-squared: 0.672644 (0.085230) with parameters: {'C': 1, 'gamma': 'auto', 'kernel': 'rbf'}\n",
            "R-squared: 0.270182 (0.061164) with parameters: {'C': 10, 'gamma': 'scale', 'kernel': 'linear'}\n",
            "R-squared: 0.705110 (0.079087) with parameters: {'C': 10, 'gamma': 'scale', 'kernel': 'rbf'}\n",
            "R-squared: 0.270182 (0.061164) with parameters: {'C': 10, 'gamma': 'auto', 'kernel': 'linear'}\n",
            "R-squared: 0.705144 (0.079164) with parameters: {'C': 10, 'gamma': 'auto', 'kernel': 'rbf'}\n",
            "\n",
            "Testing Metrics:\n",
            "-----------------\n",
            "R-squared on testing data: 0.641484\n",
            "Mean Absolute Error on testing data: 0.329119\n",
            "Mean Squared Error on testing data: 0.475342\n"
          ]
        }
      ]
    },
    {
      "cell_type": "code",
      "execution_count": null,
      "metadata": {
        "id": "APBhL0V2bpgm",
        "colab": {
          "base_uri": "https://localhost:8080/",
          "height": 248
        },
        "outputId": "24356c88-edf0-457e-fd9b-27863648c14b"
      },
      "outputs": [
        {
          "output_type": "stream",
          "name": "stdout",
          "text": [
            "Training Metrics:\n",
            "-----------------\n",
            "Best R-squared on training data: 1.000000 using the following parameters: {}\n",
            "Best Adjusted R-squared on training data: 1.000000\n",
            "Mean Absolute Error on training data: 0.000000\n",
            "Mean Squared Error on training data: 0.000000\n",
            "\n",
            "Cross-Validation Metrics:\n",
            "-------------------------\n",
            "R-squared: 0.510989 (0.185972) with parameters: {}\n"
          ]
        },
        {
          "output_type": "execute_result",
          "data": {
            "text/plain": [
              "DecisionTreeRegressor()"
            ],
            "text/html": [
              "<style>#sk-container-id-4 {color: black;background-color: white;}#sk-container-id-4 pre{padding: 0;}#sk-container-id-4 div.sk-toggleable {background-color: white;}#sk-container-id-4 label.sk-toggleable__label {cursor: pointer;display: block;width: 100%;margin-bottom: 0;padding: 0.3em;box-sizing: border-box;text-align: center;}#sk-container-id-4 label.sk-toggleable__label-arrow:before {content: \"▸\";float: left;margin-right: 0.25em;color: #696969;}#sk-container-id-4 label.sk-toggleable__label-arrow:hover:before {color: black;}#sk-container-id-4 div.sk-estimator:hover label.sk-toggleable__label-arrow:before {color: black;}#sk-container-id-4 div.sk-toggleable__content {max-height: 0;max-width: 0;overflow: hidden;text-align: left;background-color: #f0f8ff;}#sk-container-id-4 div.sk-toggleable__content pre {margin: 0.2em;color: black;border-radius: 0.25em;background-color: #f0f8ff;}#sk-container-id-4 input.sk-toggleable__control:checked~div.sk-toggleable__content {max-height: 200px;max-width: 100%;overflow: auto;}#sk-container-id-4 input.sk-toggleable__control:checked~label.sk-toggleable__label-arrow:before {content: \"▾\";}#sk-container-id-4 div.sk-estimator input.sk-toggleable__control:checked~label.sk-toggleable__label {background-color: #d4ebff;}#sk-container-id-4 div.sk-label input.sk-toggleable__control:checked~label.sk-toggleable__label {background-color: #d4ebff;}#sk-container-id-4 input.sk-hidden--visually {border: 0;clip: rect(1px 1px 1px 1px);clip: rect(1px, 1px, 1px, 1px);height: 1px;margin: -1px;overflow: hidden;padding: 0;position: absolute;width: 1px;}#sk-container-id-4 div.sk-estimator {font-family: monospace;background-color: #f0f8ff;border: 1px dotted black;border-radius: 0.25em;box-sizing: border-box;margin-bottom: 0.5em;}#sk-container-id-4 div.sk-estimator:hover {background-color: #d4ebff;}#sk-container-id-4 div.sk-parallel-item::after {content: \"\";width: 100%;border-bottom: 1px solid gray;flex-grow: 1;}#sk-container-id-4 div.sk-label:hover label.sk-toggleable__label {background-color: #d4ebff;}#sk-container-id-4 div.sk-serial::before {content: \"\";position: absolute;border-left: 1px solid gray;box-sizing: border-box;top: 0;bottom: 0;left: 50%;z-index: 0;}#sk-container-id-4 div.sk-serial {display: flex;flex-direction: column;align-items: center;background-color: white;padding-right: 0.2em;padding-left: 0.2em;position: relative;}#sk-container-id-4 div.sk-item {position: relative;z-index: 1;}#sk-container-id-4 div.sk-parallel {display: flex;align-items: stretch;justify-content: center;background-color: white;position: relative;}#sk-container-id-4 div.sk-item::before, #sk-container-id-4 div.sk-parallel-item::before {content: \"\";position: absolute;border-left: 1px solid gray;box-sizing: border-box;top: 0;bottom: 0;left: 50%;z-index: -1;}#sk-container-id-4 div.sk-parallel-item {display: flex;flex-direction: column;z-index: 1;position: relative;background-color: white;}#sk-container-id-4 div.sk-parallel-item:first-child::after {align-self: flex-end;width: 50%;}#sk-container-id-4 div.sk-parallel-item:last-child::after {align-self: flex-start;width: 50%;}#sk-container-id-4 div.sk-parallel-item:only-child::after {width: 0;}#sk-container-id-4 div.sk-dashed-wrapped {border: 1px dashed gray;margin: 0 0.4em 0.5em 0.4em;box-sizing: border-box;padding-bottom: 0.4em;background-color: white;}#sk-container-id-4 div.sk-label label {font-family: monospace;font-weight: bold;display: inline-block;line-height: 1.2em;}#sk-container-id-4 div.sk-label-container {text-align: center;}#sk-container-id-4 div.sk-container {/* jupyter's `normalize.less` sets `[hidden] { display: none; }` but bootstrap.min.css set `[hidden] { display: none !important; }` so we also need the `!important` here to be able to override the default hidden behavior on the sphinx rendered scikit-learn.org. See: https://github.com/scikit-learn/scikit-learn/issues/21755 */display: inline-block !important;position: relative;}#sk-container-id-4 div.sk-text-repr-fallback {display: none;}</style><div id=\"sk-container-id-4\" class=\"sk-top-container\"><div class=\"sk-text-repr-fallback\"><pre>DecisionTreeRegressor()</pre><b>In a Jupyter environment, please rerun this cell to show the HTML representation or trust the notebook. <br />On GitHub, the HTML representation is unable to render, please try loading this page with nbviewer.org.</b></div><div class=\"sk-container\" hidden><div class=\"sk-item\"><div class=\"sk-estimator sk-toggleable\"><input class=\"sk-toggleable__control sk-hidden--visually\" id=\"sk-estimator-id-4\" type=\"checkbox\" checked><label for=\"sk-estimator-id-4\" class=\"sk-toggleable__label sk-toggleable__label-arrow\">DecisionTreeRegressor</label><div class=\"sk-toggleable__content\"><pre>DecisionTreeRegressor()</pre></div></div></div></div></div>"
            ]
          },
          "metadata": {},
          "execution_count": 32
        }
      ],
      "source": [
        "#Decision Tree\n",
        "from sklearn.tree import DecisionTreeRegressor\n",
        "import numpy as np\n",
        "model = DecisionTreeRegressor()\n",
        "grid = {}\n",
        "train_model(model, grid, X_train_scaled, y_train_scaled)"
      ]
    },
    {
      "cell_type": "code",
      "source": [
        "model = DecisionTreeRegressor(random_state=42)\n",
        "\n",
        "# Define the hyperparameter grid for tuning\n",
        "param_grid = {\n",
        "    'max_depth': [None, 5, 10, 20],\n",
        "    'min_samples_split': [2, 5, 10],\n",
        "    'min_samples_leaf': [1, 2, 4]\n",
        "}\n",
        "\n",
        "# Train the model using the train_model function\n",
        "best_model = train_model(model, param_grid, X_train_scaled, y_train_scaled)\n",
        "\n",
        "# Make predictions on the test set using the best model\n",
        "y_pred_test = best_model.predict(X_test_scaled)\n",
        "\n",
        "print(\"\\nTesting Metrics:\")\n",
        "print(\"-----------------\")\n",
        "print(\"R-squared on testing data: %f\" % r2_score(y_test_scaled, y_pred_test))\n",
        "print(\"Mean Absolute Error on testing data: %f\" % mean_absolute_error(y_test_scaled, y_pred_test))\n",
        "print(\"Mean Squared Error on testing data: %f\" % mean_squared_error(y_test_scaled, y_pred_test))\n"
      ],
      "metadata": {
        "colab": {
          "base_uri": "https://localhost:8080/"
        },
        "id": "5XjqWUVAoL3N",
        "outputId": "f5490252-5a08-4038-ff20-82b2e52f3eeb"
      },
      "execution_count": 77,
      "outputs": [
        {
          "output_type": "stream",
          "name": "stdout",
          "text": [
            "Training Metrics:\n",
            "-----------------\n",
            "Best R-squared on training data: 0.856389 using the following parameters: {'max_depth': 5, 'min_samples_leaf': 4, 'min_samples_split': 2}\n",
            "Best Adjusted R-squared on training data: 0.854787\n",
            "Mean Absolute Error on training data: 0.184972\n",
            "Mean Squared Error on training data: 0.143611\n",
            "\n",
            "Cross-Validation Metrics:\n",
            "-------------------------\n",
            "R-squared: 0.544462 (0.133195) with parameters: {'max_depth': None, 'min_samples_leaf': 1, 'min_samples_split': 2}\n",
            "R-squared: 0.585489 (0.112231) with parameters: {'max_depth': None, 'min_samples_leaf': 1, 'min_samples_split': 5}\n",
            "R-squared: 0.618603 (0.097159) with parameters: {'max_depth': None, 'min_samples_leaf': 1, 'min_samples_split': 10}\n",
            "R-squared: 0.600433 (0.165373) with parameters: {'max_depth': None, 'min_samples_leaf': 2, 'min_samples_split': 2}\n",
            "R-squared: 0.616618 (0.165603) with parameters: {'max_depth': None, 'min_samples_leaf': 2, 'min_samples_split': 5}\n",
            "R-squared: 0.619880 (0.109172) with parameters: {'max_depth': None, 'min_samples_leaf': 2, 'min_samples_split': 10}\n",
            "R-squared: 0.625125 (0.124574) with parameters: {'max_depth': None, 'min_samples_leaf': 4, 'min_samples_split': 2}\n",
            "R-squared: 0.625125 (0.124574) with parameters: {'max_depth': None, 'min_samples_leaf': 4, 'min_samples_split': 5}\n",
            "R-squared: 0.612312 (0.121488) with parameters: {'max_depth': None, 'min_samples_leaf': 4, 'min_samples_split': 10}\n",
            "R-squared: 0.626348 (0.098093) with parameters: {'max_depth': 5, 'min_samples_leaf': 1, 'min_samples_split': 2}\n",
            "R-squared: 0.594393 (0.129044) with parameters: {'max_depth': 5, 'min_samples_leaf': 1, 'min_samples_split': 5}\n",
            "R-squared: 0.625542 (0.091212) with parameters: {'max_depth': 5, 'min_samples_leaf': 1, 'min_samples_split': 10}\n",
            "R-squared: 0.624023 (0.120872) with parameters: {'max_depth': 5, 'min_samples_leaf': 2, 'min_samples_split': 2}\n",
            "R-squared: 0.628149 (0.116057) with parameters: {'max_depth': 5, 'min_samples_leaf': 2, 'min_samples_split': 5}\n",
            "R-squared: 0.631638 (0.111746) with parameters: {'max_depth': 5, 'min_samples_leaf': 2, 'min_samples_split': 10}\n",
            "R-squared: 0.638832 (0.095079) with parameters: {'max_depth': 5, 'min_samples_leaf': 4, 'min_samples_split': 2}\n",
            "R-squared: 0.638832 (0.095079) with parameters: {'max_depth': 5, 'min_samples_leaf': 4, 'min_samples_split': 5}\n",
            "R-squared: 0.625782 (0.101387) with parameters: {'max_depth': 5, 'min_samples_leaf': 4, 'min_samples_split': 10}\n",
            "R-squared: 0.566145 (0.129255) with parameters: {'max_depth': 10, 'min_samples_leaf': 1, 'min_samples_split': 2}\n",
            "R-squared: 0.591112 (0.121279) with parameters: {'max_depth': 10, 'min_samples_leaf': 1, 'min_samples_split': 5}\n",
            "R-squared: 0.621680 (0.094724) with parameters: {'max_depth': 10, 'min_samples_leaf': 1, 'min_samples_split': 10}\n",
            "R-squared: 0.604006 (0.167686) with parameters: {'max_depth': 10, 'min_samples_leaf': 2, 'min_samples_split': 2}\n",
            "R-squared: 0.632117 (0.160008) with parameters: {'max_depth': 10, 'min_samples_leaf': 2, 'min_samples_split': 5}\n",
            "R-squared: 0.631129 (0.105668) with parameters: {'max_depth': 10, 'min_samples_leaf': 2, 'min_samples_split': 10}\n",
            "R-squared: 0.632461 (0.108437) with parameters: {'max_depth': 10, 'min_samples_leaf': 4, 'min_samples_split': 2}\n",
            "R-squared: 0.632461 (0.108437) with parameters: {'max_depth': 10, 'min_samples_leaf': 4, 'min_samples_split': 5}\n",
            "R-squared: 0.612058 (0.121517) with parameters: {'max_depth': 10, 'min_samples_leaf': 4, 'min_samples_split': 10}\n",
            "R-squared: 0.577196 (0.137590) with parameters: {'max_depth': 20, 'min_samples_leaf': 1, 'min_samples_split': 2}\n",
            "R-squared: 0.576274 (0.117435) with parameters: {'max_depth': 20, 'min_samples_leaf': 1, 'min_samples_split': 5}\n",
            "R-squared: 0.585336 (0.132207) with parameters: {'max_depth': 20, 'min_samples_leaf': 1, 'min_samples_split': 10}\n",
            "R-squared: 0.598360 (0.167245) with parameters: {'max_depth': 20, 'min_samples_leaf': 2, 'min_samples_split': 2}\n",
            "R-squared: 0.614825 (0.164011) with parameters: {'max_depth': 20, 'min_samples_leaf': 2, 'min_samples_split': 5}\n",
            "R-squared: 0.629290 (0.106767) with parameters: {'max_depth': 20, 'min_samples_leaf': 2, 'min_samples_split': 10}\n",
            "R-squared: 0.625125 (0.124574) with parameters: {'max_depth': 20, 'min_samples_leaf': 4, 'min_samples_split': 2}\n",
            "R-squared: 0.625125 (0.124574) with parameters: {'max_depth': 20, 'min_samples_leaf': 4, 'min_samples_split': 5}\n",
            "R-squared: 0.612312 (0.121488) with parameters: {'max_depth': 20, 'min_samples_leaf': 4, 'min_samples_split': 10}\n",
            "\n",
            "Testing Metrics:\n",
            "-----------------\n",
            "R-squared on testing data: 0.583116\n",
            "Mean Absolute Error on testing data: 0.318899\n",
            "Mean Squared Error on testing data: 0.552729\n"
          ]
        }
      ]
    },
    {
      "cell_type": "code",
      "execution_count": null,
      "metadata": {
        "colab": {
          "base_uri": "https://localhost:8080/",
          "height": 1000
        },
        "id": "2Oh6FP98eS_x",
        "outputId": "56b76807-e48e-42aa-b15a-6d6635c856e9"
      },
      "outputs": [
        {
          "output_type": "stream",
          "name": "stderr",
          "text": [
            "/usr/local/lib/python3.10/dist-packages/joblib/externals/loky/backend/fork_exec.py:38: RuntimeWarning: os.fork() was called. os.fork() is incompatible with multithreaded code, and JAX is multithreaded, so this will likely lead to a deadlock.\n",
            "  pid = os.fork()\n"
          ]
        },
        {
          "output_type": "stream",
          "name": "stdout",
          "text": [
            "Training Metrics:\n",
            "-----------------\n",
            "Best R-squared on training data: 0.710321 using the following parameters: {'n_neighbors': 7, 'p': 1, 'weights': 'uniform'}\n",
            "Best Adjusted R-squared on training data: 0.707090\n",
            "Mean Absolute Error on training data: 0.256568\n",
            "Mean Squared Error on training data: 0.289679\n",
            "\n",
            "Cross-Validation Metrics:\n",
            "-------------------------\n",
            "R-squared: 0.055739 (0.407113) with parameters: {'n_neighbors': 1, 'p': 1, 'weights': 'uniform'}\n",
            "R-squared: 0.055739 (0.407113) with parameters: {'n_neighbors': 1, 'p': 1, 'weights': 'distance'}\n",
            "R-squared: 0.128635 (0.400240) with parameters: {'n_neighbors': 1, 'p': 2, 'weights': 'uniform'}\n",
            "R-squared: 0.128635 (0.400240) with parameters: {'n_neighbors': 1, 'p': 2, 'weights': 'distance'}\n",
            "R-squared: 0.346195 (0.240547) with parameters: {'n_neighbors': 2, 'p': 1, 'weights': 'uniform'}\n",
            "R-squared: 0.339686 (0.237778) with parameters: {'n_neighbors': 2, 'p': 1, 'weights': 'distance'}\n",
            "R-squared: 0.363979 (0.182226) with parameters: {'n_neighbors': 2, 'p': 2, 'weights': 'uniform'}\n",
            "R-squared: 0.358909 (0.189520) with parameters: {'n_neighbors': 2, 'p': 2, 'weights': 'distance'}\n",
            "R-squared: 0.503670 (0.158588) with parameters: {'n_neighbors': 3, 'p': 1, 'weights': 'uniform'}\n",
            "R-squared: 0.485198 (0.172821) with parameters: {'n_neighbors': 3, 'p': 1, 'weights': 'distance'}\n",
            "R-squared: 0.499503 (0.129007) with parameters: {'n_neighbors': 3, 'p': 2, 'weights': 'uniform'}\n",
            "R-squared: 0.481366 (0.137049) with parameters: {'n_neighbors': 3, 'p': 2, 'weights': 'distance'}\n",
            "R-squared: 0.523837 (0.146237) with parameters: {'n_neighbors': 4, 'p': 1, 'weights': 'uniform'}\n",
            "R-squared: 0.511389 (0.150959) with parameters: {'n_neighbors': 4, 'p': 1, 'weights': 'distance'}\n",
            "R-squared: 0.503426 (0.131465) with parameters: {'n_neighbors': 4, 'p': 2, 'weights': 'uniform'}\n",
            "R-squared: 0.493437 (0.143602) with parameters: {'n_neighbors': 4, 'p': 2, 'weights': 'distance'}\n",
            "R-squared: 0.545747 (0.164019) with parameters: {'n_neighbors': 5, 'p': 1, 'weights': 'uniform'}\n",
            "R-squared: 0.535853 (0.162874) with parameters: {'n_neighbors': 5, 'p': 1, 'weights': 'distance'}\n",
            "R-squared: 0.503263 (0.149431) with parameters: {'n_neighbors': 5, 'p': 2, 'weights': 'uniform'}\n",
            "R-squared: 0.499121 (0.148701) with parameters: {'n_neighbors': 5, 'p': 2, 'weights': 'distance'}\n",
            "R-squared: 0.555494 (0.132343) with parameters: {'n_neighbors': 6, 'p': 1, 'weights': 'uniform'}\n",
            "R-squared: 0.549979 (0.133821) with parameters: {'n_neighbors': 6, 'p': 1, 'weights': 'distance'}\n",
            "R-squared: 0.528230 (0.128393) with parameters: {'n_neighbors': 6, 'p': 2, 'weights': 'uniform'}\n",
            "R-squared: 0.524784 (0.132933) with parameters: {'n_neighbors': 6, 'p': 2, 'weights': 'distance'}\n",
            "R-squared: 0.565956 (0.100144) with parameters: {'n_neighbors': 7, 'p': 1, 'weights': 'uniform'}\n",
            "R-squared: 0.563464 (0.105999) with parameters: {'n_neighbors': 7, 'p': 1, 'weights': 'distance'}\n",
            "R-squared: 0.528596 (0.131381) with parameters: {'n_neighbors': 7, 'p': 2, 'weights': 'uniform'}\n",
            "R-squared: 0.529031 (0.131957) with parameters: {'n_neighbors': 7, 'p': 2, 'weights': 'distance'}\n",
            "R-squared: 0.561307 (0.100410) with parameters: {'n_neighbors': 8, 'p': 1, 'weights': 'uniform'}\n",
            "R-squared: 0.561288 (0.104577) with parameters: {'n_neighbors': 8, 'p': 1, 'weights': 'distance'}\n",
            "R-squared: 0.515856 (0.134235) with parameters: {'n_neighbors': 8, 'p': 2, 'weights': 'uniform'}\n",
            "R-squared: 0.520106 (0.134913) with parameters: {'n_neighbors': 8, 'p': 2, 'weights': 'distance'}\n",
            "R-squared: 0.552582 (0.103692) with parameters: {'n_neighbors': 9, 'p': 1, 'weights': 'uniform'}\n",
            "R-squared: 0.556923 (0.104781) with parameters: {'n_neighbors': 9, 'p': 1, 'weights': 'distance'}\n",
            "R-squared: 0.515618 (0.119110) with parameters: {'n_neighbors': 9, 'p': 2, 'weights': 'uniform'}\n",
            "R-squared: 0.520826 (0.120324) with parameters: {'n_neighbors': 9, 'p': 2, 'weights': 'distance'}\n",
            "R-squared: 0.548638 (0.103768) with parameters: {'n_neighbors': 10, 'p': 1, 'weights': 'uniform'}\n",
            "R-squared: 0.554051 (0.107215) with parameters: {'n_neighbors': 10, 'p': 1, 'weights': 'distance'}\n",
            "R-squared: 0.522742 (0.130543) with parameters: {'n_neighbors': 10, 'p': 2, 'weights': 'uniform'}\n",
            "R-squared: 0.528292 (0.127265) with parameters: {'n_neighbors': 10, 'p': 2, 'weights': 'distance'}\n",
            "R-squared: 0.557539 (0.109444) with parameters: {'n_neighbors': 11, 'p': 1, 'weights': 'uniform'}\n",
            "R-squared: 0.562758 (0.108695) with parameters: {'n_neighbors': 11, 'p': 1, 'weights': 'distance'}\n",
            "R-squared: 0.528249 (0.118602) with parameters: {'n_neighbors': 11, 'p': 2, 'weights': 'uniform'}\n",
            "R-squared: 0.533461 (0.119529) with parameters: {'n_neighbors': 11, 'p': 2, 'weights': 'distance'}\n",
            "R-squared: 0.550450 (0.114516) with parameters: {'n_neighbors': 12, 'p': 1, 'weights': 'uniform'}\n",
            "R-squared: 0.557894 (0.111891) with parameters: {'n_neighbors': 12, 'p': 1, 'weights': 'distance'}\n",
            "R-squared: 0.540850 (0.109853) with parameters: {'n_neighbors': 12, 'p': 2, 'weights': 'uniform'}\n",
            "R-squared: 0.545127 (0.110797) with parameters: {'n_neighbors': 12, 'p': 2, 'weights': 'distance'}\n"
          ]
        },
        {
          "output_type": "execute_result",
          "data": {
            "text/plain": [
              "KNeighborsRegressor(n_neighbors=7, p=1)"
            ],
            "text/html": [
              "<style>#sk-container-id-3 {color: black;background-color: white;}#sk-container-id-3 pre{padding: 0;}#sk-container-id-3 div.sk-toggleable {background-color: white;}#sk-container-id-3 label.sk-toggleable__label {cursor: pointer;display: block;width: 100%;margin-bottom: 0;padding: 0.3em;box-sizing: border-box;text-align: center;}#sk-container-id-3 label.sk-toggleable__label-arrow:before {content: \"▸\";float: left;margin-right: 0.25em;color: #696969;}#sk-container-id-3 label.sk-toggleable__label-arrow:hover:before {color: black;}#sk-container-id-3 div.sk-estimator:hover label.sk-toggleable__label-arrow:before {color: black;}#sk-container-id-3 div.sk-toggleable__content {max-height: 0;max-width: 0;overflow: hidden;text-align: left;background-color: #f0f8ff;}#sk-container-id-3 div.sk-toggleable__content pre {margin: 0.2em;color: black;border-radius: 0.25em;background-color: #f0f8ff;}#sk-container-id-3 input.sk-toggleable__control:checked~div.sk-toggleable__content {max-height: 200px;max-width: 100%;overflow: auto;}#sk-container-id-3 input.sk-toggleable__control:checked~label.sk-toggleable__label-arrow:before {content: \"▾\";}#sk-container-id-3 div.sk-estimator input.sk-toggleable__control:checked~label.sk-toggleable__label {background-color: #d4ebff;}#sk-container-id-3 div.sk-label input.sk-toggleable__control:checked~label.sk-toggleable__label {background-color: #d4ebff;}#sk-container-id-3 input.sk-hidden--visually {border: 0;clip: rect(1px 1px 1px 1px);clip: rect(1px, 1px, 1px, 1px);height: 1px;margin: -1px;overflow: hidden;padding: 0;position: absolute;width: 1px;}#sk-container-id-3 div.sk-estimator {font-family: monospace;background-color: #f0f8ff;border: 1px dotted black;border-radius: 0.25em;box-sizing: border-box;margin-bottom: 0.5em;}#sk-container-id-3 div.sk-estimator:hover {background-color: #d4ebff;}#sk-container-id-3 div.sk-parallel-item::after {content: \"\";width: 100%;border-bottom: 1px solid gray;flex-grow: 1;}#sk-container-id-3 div.sk-label:hover label.sk-toggleable__label {background-color: #d4ebff;}#sk-container-id-3 div.sk-serial::before {content: \"\";position: absolute;border-left: 1px solid gray;box-sizing: border-box;top: 0;bottom: 0;left: 50%;z-index: 0;}#sk-container-id-3 div.sk-serial {display: flex;flex-direction: column;align-items: center;background-color: white;padding-right: 0.2em;padding-left: 0.2em;position: relative;}#sk-container-id-3 div.sk-item {position: relative;z-index: 1;}#sk-container-id-3 div.sk-parallel {display: flex;align-items: stretch;justify-content: center;background-color: white;position: relative;}#sk-container-id-3 div.sk-item::before, #sk-container-id-3 div.sk-parallel-item::before {content: \"\";position: absolute;border-left: 1px solid gray;box-sizing: border-box;top: 0;bottom: 0;left: 50%;z-index: -1;}#sk-container-id-3 div.sk-parallel-item {display: flex;flex-direction: column;z-index: 1;position: relative;background-color: white;}#sk-container-id-3 div.sk-parallel-item:first-child::after {align-self: flex-end;width: 50%;}#sk-container-id-3 div.sk-parallel-item:last-child::after {align-self: flex-start;width: 50%;}#sk-container-id-3 div.sk-parallel-item:only-child::after {width: 0;}#sk-container-id-3 div.sk-dashed-wrapped {border: 1px dashed gray;margin: 0 0.4em 0.5em 0.4em;box-sizing: border-box;padding-bottom: 0.4em;background-color: white;}#sk-container-id-3 div.sk-label label {font-family: monospace;font-weight: bold;display: inline-block;line-height: 1.2em;}#sk-container-id-3 div.sk-label-container {text-align: center;}#sk-container-id-3 div.sk-container {/* jupyter's `normalize.less` sets `[hidden] { display: none; }` but bootstrap.min.css set `[hidden] { display: none !important; }` so we also need the `!important` here to be able to override the default hidden behavior on the sphinx rendered scikit-learn.org. See: https://github.com/scikit-learn/scikit-learn/issues/21755 */display: inline-block !important;position: relative;}#sk-container-id-3 div.sk-text-repr-fallback {display: none;}</style><div id=\"sk-container-id-3\" class=\"sk-top-container\"><div class=\"sk-text-repr-fallback\"><pre>KNeighborsRegressor(n_neighbors=7, p=1)</pre><b>In a Jupyter environment, please rerun this cell to show the HTML representation or trust the notebook. <br />On GitHub, the HTML representation is unable to render, please try loading this page with nbviewer.org.</b></div><div class=\"sk-container\" hidden><div class=\"sk-item\"><div class=\"sk-estimator sk-toggleable\"><input class=\"sk-toggleable__control sk-hidden--visually\" id=\"sk-estimator-id-3\" type=\"checkbox\" checked><label for=\"sk-estimator-id-3\" class=\"sk-toggleable__label sk-toggleable__label-arrow\">KNeighborsRegressor</label><div class=\"sk-toggleable__content\"><pre>KNeighborsRegressor(n_neighbors=7, p=1)</pre></div></div></div></div></div>"
            ]
          },
          "metadata": {},
          "execution_count": 37
        }
      ],
      "source": [
        "#KNN\n",
        "from sklearn.neighbors import KNeighborsRegressor\n",
        "grid = {\n",
        "    'n_neighbors': [1,2,3,4,5,6,7,8,9,10,11,12],\n",
        "    'weights': ['uniform', 'distance'],\n",
        "    'p': [1,2] # p=1 compute manhattan distance, p=2 compute euclidean distance\n",
        "    }\n",
        "model = KNeighborsRegressor()\n",
        "train_model(model, grid, X_train_scaled, y_train_scaled)"
      ]
    },
    {
      "cell_type": "code",
      "source": [
        "model = KNeighborsRegressor()\n",
        "\n",
        "# Define the hyperparameter grid for tuning\n",
        "param_grid = {\n",
        "    'n_neighbors': [3, 5, 7, 9],\n",
        "    'weights': ['uniform', 'distance'],\n",
        "    'p': [1, 2]\n",
        "}\n",
        "\n",
        "# Train the model using the train_model function\n",
        "best_model = train_model(model, param_grid, X_train_scaled, y_train_scaled)\n",
        "\n",
        "# Make predictions on the test set using the best model\n",
        "y_pred_test = best_model.predict(X_test_scaled)\n",
        "\n",
        "print(\"\\nTesting Metrics:\")\n",
        "print(\"-----------------\")\n",
        "print(\"R-squared on testing data: %f\" % r2_score(y_test_scaled, y_pred_test))\n",
        "print(\"Mean Absolute Error on testing data: %f\" % mean_absolute_error(y_test_scaled, y_pred_test))\n",
        "print(\"Mean Squared Error on testing data: %f\" % mean_squared_error(y_test_scaled, y_pred_test))"
      ],
      "metadata": {
        "colab": {
          "base_uri": "https://localhost:8080/"
        },
        "id": "-FKCLT-gpPAR",
        "outputId": "76714ce9-8d1f-4c12-b0c4-05f534f9088b"
      },
      "execution_count": 78,
      "outputs": [
        {
          "output_type": "stream",
          "name": "stdout",
          "text": [
            "Training Metrics:\n",
            "-----------------\n",
            "Best R-squared on training data: 1.000000 using the following parameters: {'n_neighbors': 9, 'p': 1, 'weights': 'distance'}\n",
            "Best Adjusted R-squared on training data: 1.000000\n",
            "Mean Absolute Error on training data: 0.000000\n",
            "Mean Squared Error on training data: 0.000000\n",
            "\n",
            "Cross-Validation Metrics:\n",
            "-------------------------\n",
            "R-squared: 0.589690 (0.078795) with parameters: {'n_neighbors': 3, 'p': 1, 'weights': 'uniform'}\n",
            "R-squared: 0.608761 (0.080879) with parameters: {'n_neighbors': 3, 'p': 1, 'weights': 'distance'}\n",
            "R-squared: 0.520426 (0.120655) with parameters: {'n_neighbors': 3, 'p': 2, 'weights': 'uniform'}\n",
            "R-squared: 0.538469 (0.125866) with parameters: {'n_neighbors': 3, 'p': 2, 'weights': 'distance'}\n",
            "R-squared: 0.610038 (0.105527) with parameters: {'n_neighbors': 5, 'p': 1, 'weights': 'uniform'}\n",
            "R-squared: 0.635747 (0.086876) with parameters: {'n_neighbors': 5, 'p': 1, 'weights': 'distance'}\n",
            "R-squared: 0.553843 (0.143890) with parameters: {'n_neighbors': 5, 'p': 2, 'weights': 'uniform'}\n",
            "R-squared: 0.576340 (0.141880) with parameters: {'n_neighbors': 5, 'p': 2, 'weights': 'distance'}\n",
            "R-squared: 0.615799 (0.104769) with parameters: {'n_neighbors': 7, 'p': 1, 'weights': 'uniform'}\n",
            "R-squared: 0.641272 (0.087417) with parameters: {'n_neighbors': 7, 'p': 1, 'weights': 'distance'}\n",
            "R-squared: 0.570236 (0.110178) with parameters: {'n_neighbors': 7, 'p': 2, 'weights': 'uniform'}\n",
            "R-squared: 0.596123 (0.104860) with parameters: {'n_neighbors': 7, 'p': 2, 'weights': 'distance'}\n",
            "R-squared: 0.627171 (0.088082) with parameters: {'n_neighbors': 9, 'p': 1, 'weights': 'uniform'}\n",
            "R-squared: 0.649674 (0.075068) with parameters: {'n_neighbors': 9, 'p': 1, 'weights': 'distance'}\n",
            "R-squared: 0.589068 (0.096212) with parameters: {'n_neighbors': 9, 'p': 2, 'weights': 'uniform'}\n",
            "R-squared: 0.612155 (0.090298) with parameters: {'n_neighbors': 9, 'p': 2, 'weights': 'distance'}\n",
            "\n",
            "Testing Metrics:\n",
            "-----------------\n",
            "R-squared on testing data: 0.617165\n",
            "Mean Absolute Error on testing data: 0.335526\n",
            "Mean Squared Error on testing data: 0.507585\n"
          ]
        }
      ]
    },
    {
      "cell_type": "code",
      "execution_count": null,
      "metadata": {
        "colab": {
          "base_uri": "https://localhost:8080/"
        },
        "id": "4cQL21Fzeql8",
        "outputId": "b9405bc4-3203-401c-f32b-e00f2d8c6082"
      },
      "outputs": [
        {
          "output_type": "stream",
          "name": "stdout",
          "text": [
            "Training Metrics:\n",
            "-----------------\n",
            "Best R-squared on training data: 0.962985 using the following parameters: {}\n",
            "Best Adjusted R-squared on training data: 0.962573\n",
            "Mean Absolute Error on training data: 0.095491\n",
            "Mean Squared Error on training data: 0.037015\n",
            "\n",
            "Cross-Validation Metrics:\n",
            "-------------------------\n",
            "R-squared: 0.734807 (0.115112) with parameters: {}\n"
          ]
        }
      ],
      "source": [
        "#Random forest\n",
        "from sklearn.ensemble import RandomForestRegressor\n",
        "grid ={}\n",
        "model = RandomForestRegressor(n_estimators=200,random_state=42,max_depth=10)\n",
        "RF_trained_model = train_model(model, grid, X_train_scaled, y_train_scaled)"
      ]
    },
    {
      "cell_type": "code",
      "source": [
        "# Random Forest is best, try on test set\n",
        "y_pred_RF = RF_trained_model.predict(X_test_scaled)\n",
        "# Printing Testing metrics\n",
        "print(\"Testing Metrics:\")\n",
        "print(\"-----------------\")\n",
        "print(\"Best R-squared on testing data: %f \" % (r2_score(y_test_scaled, y_pred_RF)))\n",
        "print(\"Mean Absolute Error on testing data: %f\" % mean_absolute_error(y_test_scaled, y_pred_RF))\n",
        "print(\"Mean Squared Error on testing data: %f\" % mean_squared_error(y_test_scaled, y_pred_RF))"
      ],
      "metadata": {
        "colab": {
          "base_uri": "https://localhost:8080/"
        },
        "id": "BFel3OKWhthN",
        "outputId": "2c5d65ae-f5c5-4797-bd64-3b089af99526"
      },
      "execution_count": null,
      "outputs": [
        {
          "output_type": "stream",
          "name": "stdout",
          "text": [
            "Testing Metrics:\n",
            "-----------------\n",
            "Best R-squared on testing data: 0.794337 \n",
            "Mean Absolute Error on testing data: 0.223626\n",
            "Mean Squared Error on testing data: 0.272680\n"
          ]
        }
      ]
    },
    {
      "cell_type": "code",
      "source": [
        "from sklearn.linear_model import Ridge\n",
        "model = Ridge()\n",
        "grid = {}\n",
        "train_model(model, grid, X_train_scaled, y_train_scaled)"
      ],
      "metadata": {
        "colab": {
          "base_uri": "https://localhost:8080/",
          "height": 248
        },
        "id": "FHZbQsjngvOQ",
        "outputId": "b1cb565d-0fb3-4e14-d469-ed1f3590ff94"
      },
      "execution_count": null,
      "outputs": [
        {
          "output_type": "stream",
          "name": "stdout",
          "text": [
            "Training Metrics:\n",
            "-----------------\n",
            "Best R-squared on training data: 0.418998 using the following parameters: {}\n",
            "Best Adjusted R-squared on training data: 0.412519\n",
            "Mean Absolute Error on training data: 0.495713\n",
            "Mean Squared Error on training data: 0.581002\n",
            "\n",
            "Cross-Validation Metrics:\n",
            "-------------------------\n",
            "R-squared: 0.382804 (0.082189) with parameters: {}\n"
          ]
        },
        {
          "output_type": "execute_result",
          "data": {
            "text/plain": [
              "Ridge()"
            ],
            "text/html": [
              "<style>#sk-container-id-4 {color: black;background-color: white;}#sk-container-id-4 pre{padding: 0;}#sk-container-id-4 div.sk-toggleable {background-color: white;}#sk-container-id-4 label.sk-toggleable__label {cursor: pointer;display: block;width: 100%;margin-bottom: 0;padding: 0.3em;box-sizing: border-box;text-align: center;}#sk-container-id-4 label.sk-toggleable__label-arrow:before {content: \"▸\";float: left;margin-right: 0.25em;color: #696969;}#sk-container-id-4 label.sk-toggleable__label-arrow:hover:before {color: black;}#sk-container-id-4 div.sk-estimator:hover label.sk-toggleable__label-arrow:before {color: black;}#sk-container-id-4 div.sk-toggleable__content {max-height: 0;max-width: 0;overflow: hidden;text-align: left;background-color: #f0f8ff;}#sk-container-id-4 div.sk-toggleable__content pre {margin: 0.2em;color: black;border-radius: 0.25em;background-color: #f0f8ff;}#sk-container-id-4 input.sk-toggleable__control:checked~div.sk-toggleable__content {max-height: 200px;max-width: 100%;overflow: auto;}#sk-container-id-4 input.sk-toggleable__control:checked~label.sk-toggleable__label-arrow:before {content: \"▾\";}#sk-container-id-4 div.sk-estimator input.sk-toggleable__control:checked~label.sk-toggleable__label {background-color: #d4ebff;}#sk-container-id-4 div.sk-label input.sk-toggleable__control:checked~label.sk-toggleable__label {background-color: #d4ebff;}#sk-container-id-4 input.sk-hidden--visually {border: 0;clip: rect(1px 1px 1px 1px);clip: rect(1px, 1px, 1px, 1px);height: 1px;margin: -1px;overflow: hidden;padding: 0;position: absolute;width: 1px;}#sk-container-id-4 div.sk-estimator {font-family: monospace;background-color: #f0f8ff;border: 1px dotted black;border-radius: 0.25em;box-sizing: border-box;margin-bottom: 0.5em;}#sk-container-id-4 div.sk-estimator:hover {background-color: #d4ebff;}#sk-container-id-4 div.sk-parallel-item::after {content: \"\";width: 100%;border-bottom: 1px solid gray;flex-grow: 1;}#sk-container-id-4 div.sk-label:hover label.sk-toggleable__label {background-color: #d4ebff;}#sk-container-id-4 div.sk-serial::before {content: \"\";position: absolute;border-left: 1px solid gray;box-sizing: border-box;top: 0;bottom: 0;left: 50%;z-index: 0;}#sk-container-id-4 div.sk-serial {display: flex;flex-direction: column;align-items: center;background-color: white;padding-right: 0.2em;padding-left: 0.2em;position: relative;}#sk-container-id-4 div.sk-item {position: relative;z-index: 1;}#sk-container-id-4 div.sk-parallel {display: flex;align-items: stretch;justify-content: center;background-color: white;position: relative;}#sk-container-id-4 div.sk-item::before, #sk-container-id-4 div.sk-parallel-item::before {content: \"\";position: absolute;border-left: 1px solid gray;box-sizing: border-box;top: 0;bottom: 0;left: 50%;z-index: -1;}#sk-container-id-4 div.sk-parallel-item {display: flex;flex-direction: column;z-index: 1;position: relative;background-color: white;}#sk-container-id-4 div.sk-parallel-item:first-child::after {align-self: flex-end;width: 50%;}#sk-container-id-4 div.sk-parallel-item:last-child::after {align-self: flex-start;width: 50%;}#sk-container-id-4 div.sk-parallel-item:only-child::after {width: 0;}#sk-container-id-4 div.sk-dashed-wrapped {border: 1px dashed gray;margin: 0 0.4em 0.5em 0.4em;box-sizing: border-box;padding-bottom: 0.4em;background-color: white;}#sk-container-id-4 div.sk-label label {font-family: monospace;font-weight: bold;display: inline-block;line-height: 1.2em;}#sk-container-id-4 div.sk-label-container {text-align: center;}#sk-container-id-4 div.sk-container {/* jupyter's `normalize.less` sets `[hidden] { display: none; }` but bootstrap.min.css set `[hidden] { display: none !important; }` so we also need the `!important` here to be able to override the default hidden behavior on the sphinx rendered scikit-learn.org. See: https://github.com/scikit-learn/scikit-learn/issues/21755 */display: inline-block !important;position: relative;}#sk-container-id-4 div.sk-text-repr-fallback {display: none;}</style><div id=\"sk-container-id-4\" class=\"sk-top-container\"><div class=\"sk-text-repr-fallback\"><pre>Ridge()</pre><b>In a Jupyter environment, please rerun this cell to show the HTML representation or trust the notebook. <br />On GitHub, the HTML representation is unable to render, please try loading this page with nbviewer.org.</b></div><div class=\"sk-container\" hidden><div class=\"sk-item\"><div class=\"sk-estimator sk-toggleable\"><input class=\"sk-toggleable__control sk-hidden--visually\" id=\"sk-estimator-id-4\" type=\"checkbox\" checked><label for=\"sk-estimator-id-4\" class=\"sk-toggleable__label sk-toggleable__label-arrow\">Ridge</label><div class=\"sk-toggleable__content\"><pre>Ridge()</pre></div></div></div></div></div>"
            ]
          },
          "metadata": {},
          "execution_count": 40
        }
      ]
    },
    {
      "cell_type": "code",
      "source": [
        "from sklearn.linear_model import Lasso\n",
        "model = Lasso()\n",
        "grid={}\n",
        "train_model(model, grid, X_train_scaled, y_train_scaled)"
      ],
      "metadata": {
        "colab": {
          "base_uri": "https://localhost:8080/",
          "height": 248
        },
        "id": "ZDEtEvlgg2sP",
        "outputId": "d35a5e7d-3510-4a8f-9c86-4d4502b83227"
      },
      "execution_count": null,
      "outputs": [
        {
          "output_type": "stream",
          "name": "stdout",
          "text": [
            "Training Metrics:\n",
            "-----------------\n",
            "Best R-squared on training data: 0.000000 using the following parameters: {}\n",
            "Best Adjusted R-squared on training data: -0.011152\n",
            "Mean Absolute Error on training data: 0.628581\n",
            "Mean Squared Error on training data: 1.000000\n",
            "\n",
            "Cross-Validation Metrics:\n",
            "-------------------------\n",
            "R-squared: -0.016464 (0.010604) with parameters: {}\n"
          ]
        },
        {
          "output_type": "execute_result",
          "data": {
            "text/plain": [
              "Lasso()"
            ],
            "text/html": [
              "<style>#sk-container-id-5 {color: black;background-color: white;}#sk-container-id-5 pre{padding: 0;}#sk-container-id-5 div.sk-toggleable {background-color: white;}#sk-container-id-5 label.sk-toggleable__label {cursor: pointer;display: block;width: 100%;margin-bottom: 0;padding: 0.3em;box-sizing: border-box;text-align: center;}#sk-container-id-5 label.sk-toggleable__label-arrow:before {content: \"▸\";float: left;margin-right: 0.25em;color: #696969;}#sk-container-id-5 label.sk-toggleable__label-arrow:hover:before {color: black;}#sk-container-id-5 div.sk-estimator:hover label.sk-toggleable__label-arrow:before {color: black;}#sk-container-id-5 div.sk-toggleable__content {max-height: 0;max-width: 0;overflow: hidden;text-align: left;background-color: #f0f8ff;}#sk-container-id-5 div.sk-toggleable__content pre {margin: 0.2em;color: black;border-radius: 0.25em;background-color: #f0f8ff;}#sk-container-id-5 input.sk-toggleable__control:checked~div.sk-toggleable__content {max-height: 200px;max-width: 100%;overflow: auto;}#sk-container-id-5 input.sk-toggleable__control:checked~label.sk-toggleable__label-arrow:before {content: \"▾\";}#sk-container-id-5 div.sk-estimator input.sk-toggleable__control:checked~label.sk-toggleable__label {background-color: #d4ebff;}#sk-container-id-5 div.sk-label input.sk-toggleable__control:checked~label.sk-toggleable__label {background-color: #d4ebff;}#sk-container-id-5 input.sk-hidden--visually {border: 0;clip: rect(1px 1px 1px 1px);clip: rect(1px, 1px, 1px, 1px);height: 1px;margin: -1px;overflow: hidden;padding: 0;position: absolute;width: 1px;}#sk-container-id-5 div.sk-estimator {font-family: monospace;background-color: #f0f8ff;border: 1px dotted black;border-radius: 0.25em;box-sizing: border-box;margin-bottom: 0.5em;}#sk-container-id-5 div.sk-estimator:hover {background-color: #d4ebff;}#sk-container-id-5 div.sk-parallel-item::after {content: \"\";width: 100%;border-bottom: 1px solid gray;flex-grow: 1;}#sk-container-id-5 div.sk-label:hover label.sk-toggleable__label {background-color: #d4ebff;}#sk-container-id-5 div.sk-serial::before {content: \"\";position: absolute;border-left: 1px solid gray;box-sizing: border-box;top: 0;bottom: 0;left: 50%;z-index: 0;}#sk-container-id-5 div.sk-serial {display: flex;flex-direction: column;align-items: center;background-color: white;padding-right: 0.2em;padding-left: 0.2em;position: relative;}#sk-container-id-5 div.sk-item {position: relative;z-index: 1;}#sk-container-id-5 div.sk-parallel {display: flex;align-items: stretch;justify-content: center;background-color: white;position: relative;}#sk-container-id-5 div.sk-item::before, #sk-container-id-5 div.sk-parallel-item::before {content: \"\";position: absolute;border-left: 1px solid gray;box-sizing: border-box;top: 0;bottom: 0;left: 50%;z-index: -1;}#sk-container-id-5 div.sk-parallel-item {display: flex;flex-direction: column;z-index: 1;position: relative;background-color: white;}#sk-container-id-5 div.sk-parallel-item:first-child::after {align-self: flex-end;width: 50%;}#sk-container-id-5 div.sk-parallel-item:last-child::after {align-self: flex-start;width: 50%;}#sk-container-id-5 div.sk-parallel-item:only-child::after {width: 0;}#sk-container-id-5 div.sk-dashed-wrapped {border: 1px dashed gray;margin: 0 0.4em 0.5em 0.4em;box-sizing: border-box;padding-bottom: 0.4em;background-color: white;}#sk-container-id-5 div.sk-label label {font-family: monospace;font-weight: bold;display: inline-block;line-height: 1.2em;}#sk-container-id-5 div.sk-label-container {text-align: center;}#sk-container-id-5 div.sk-container {/* jupyter's `normalize.less` sets `[hidden] { display: none; }` but bootstrap.min.css set `[hidden] { display: none !important; }` so we also need the `!important` here to be able to override the default hidden behavior on the sphinx rendered scikit-learn.org. See: https://github.com/scikit-learn/scikit-learn/issues/21755 */display: inline-block !important;position: relative;}#sk-container-id-5 div.sk-text-repr-fallback {display: none;}</style><div id=\"sk-container-id-5\" class=\"sk-top-container\"><div class=\"sk-text-repr-fallback\"><pre>Lasso()</pre><b>In a Jupyter environment, please rerun this cell to show the HTML representation or trust the notebook. <br />On GitHub, the HTML representation is unable to render, please try loading this page with nbviewer.org.</b></div><div class=\"sk-container\" hidden><div class=\"sk-item\"><div class=\"sk-estimator sk-toggleable\"><input class=\"sk-toggleable__control sk-hidden--visually\" id=\"sk-estimator-id-5\" type=\"checkbox\" checked><label for=\"sk-estimator-id-5\" class=\"sk-toggleable__label sk-toggleable__label-arrow\">Lasso</label><div class=\"sk-toggleable__content\"><pre>Lasso()</pre></div></div></div></div></div>"
            ]
          },
          "metadata": {},
          "execution_count": 41
        }
      ]
    },
    {
      "cell_type": "code",
      "execution_count": null,
      "metadata": {
        "id": "GQRlYobv7KzM",
        "colab": {
          "base_uri": "https://localhost:8080/",
          "height": 439
        },
        "outputId": "ae2179a9-7d6c-4af3-8943-dca1f55a77a2"
      },
      "outputs": [
        {
          "output_type": "stream",
          "name": "stdout",
          "text": [
            "Training Metrics:\n",
            "-----------------\n",
            "Best R-squared on training data: 0.411573 using the following parameters: {'alpha': 0.1, 'l1_ratio': 0.1}\n",
            "Best Adjusted R-squared on training data: 0.405011\n",
            "Mean Absolute Error on training data: 0.481547\n",
            "Mean Squared Error on training data: 0.588427\n",
            "\n",
            "Cross-Validation Metrics:\n",
            "-------------------------\n",
            "R-squared: 0.389291 (0.070769) with parameters: {'alpha': 0.1, 'l1_ratio': 0.1}\n",
            "R-squared: 0.384455 (0.071440) with parameters: {'alpha': 0.1, 'l1_ratio': 0.5}\n",
            "R-squared: 0.380918 (0.074028) with parameters: {'alpha': 0.1, 'l1_ratio': 0.7}\n",
            "R-squared: 0.375439 (0.077530) with parameters: {'alpha': 0.1, 'l1_ratio': 0.9}\n",
            "R-squared: 0.361181 (0.073236) with parameters: {'alpha': 0.5, 'l1_ratio': 0.1}\n",
            "R-squared: 0.281524 (0.073356) with parameters: {'alpha': 0.5, 'l1_ratio': 0.5}\n",
            "R-squared: 0.216677 (0.064027) with parameters: {'alpha': 0.5, 'l1_ratio': 0.7}\n",
            "R-squared: 0.150973 (0.055263) with parameters: {'alpha': 0.5, 'l1_ratio': 0.9}\n",
            "R-squared: 0.298431 (0.073253) with parameters: {'alpha': 1.0, 'l1_ratio': 0.1}\n",
            "R-squared: 0.069260 (0.036726) with parameters: {'alpha': 1.0, 'l1_ratio': 0.5}\n",
            "R-squared: -0.016464 (0.010604) with parameters: {'alpha': 1.0, 'l1_ratio': 0.7}\n",
            "R-squared: -0.016464 (0.010604) with parameters: {'alpha': 1.0, 'l1_ratio': 0.9}\n"
          ]
        },
        {
          "output_type": "execute_result",
          "data": {
            "text/plain": [
              "ElasticNet(alpha=0.1, l1_ratio=0.1)"
            ],
            "text/html": [
              "<style>#sk-container-id-6 {color: black;background-color: white;}#sk-container-id-6 pre{padding: 0;}#sk-container-id-6 div.sk-toggleable {background-color: white;}#sk-container-id-6 label.sk-toggleable__label {cursor: pointer;display: block;width: 100%;margin-bottom: 0;padding: 0.3em;box-sizing: border-box;text-align: center;}#sk-container-id-6 label.sk-toggleable__label-arrow:before {content: \"▸\";float: left;margin-right: 0.25em;color: #696969;}#sk-container-id-6 label.sk-toggleable__label-arrow:hover:before {color: black;}#sk-container-id-6 div.sk-estimator:hover label.sk-toggleable__label-arrow:before {color: black;}#sk-container-id-6 div.sk-toggleable__content {max-height: 0;max-width: 0;overflow: hidden;text-align: left;background-color: #f0f8ff;}#sk-container-id-6 div.sk-toggleable__content pre {margin: 0.2em;color: black;border-radius: 0.25em;background-color: #f0f8ff;}#sk-container-id-6 input.sk-toggleable__control:checked~div.sk-toggleable__content {max-height: 200px;max-width: 100%;overflow: auto;}#sk-container-id-6 input.sk-toggleable__control:checked~label.sk-toggleable__label-arrow:before {content: \"▾\";}#sk-container-id-6 div.sk-estimator input.sk-toggleable__control:checked~label.sk-toggleable__label {background-color: #d4ebff;}#sk-container-id-6 div.sk-label input.sk-toggleable__control:checked~label.sk-toggleable__label {background-color: #d4ebff;}#sk-container-id-6 input.sk-hidden--visually {border: 0;clip: rect(1px 1px 1px 1px);clip: rect(1px, 1px, 1px, 1px);height: 1px;margin: -1px;overflow: hidden;padding: 0;position: absolute;width: 1px;}#sk-container-id-6 div.sk-estimator {font-family: monospace;background-color: #f0f8ff;border: 1px dotted black;border-radius: 0.25em;box-sizing: border-box;margin-bottom: 0.5em;}#sk-container-id-6 div.sk-estimator:hover {background-color: #d4ebff;}#sk-container-id-6 div.sk-parallel-item::after {content: \"\";width: 100%;border-bottom: 1px solid gray;flex-grow: 1;}#sk-container-id-6 div.sk-label:hover label.sk-toggleable__label {background-color: #d4ebff;}#sk-container-id-6 div.sk-serial::before {content: \"\";position: absolute;border-left: 1px solid gray;box-sizing: border-box;top: 0;bottom: 0;left: 50%;z-index: 0;}#sk-container-id-6 div.sk-serial {display: flex;flex-direction: column;align-items: center;background-color: white;padding-right: 0.2em;padding-left: 0.2em;position: relative;}#sk-container-id-6 div.sk-item {position: relative;z-index: 1;}#sk-container-id-6 div.sk-parallel {display: flex;align-items: stretch;justify-content: center;background-color: white;position: relative;}#sk-container-id-6 div.sk-item::before, #sk-container-id-6 div.sk-parallel-item::before {content: \"\";position: absolute;border-left: 1px solid gray;box-sizing: border-box;top: 0;bottom: 0;left: 50%;z-index: -1;}#sk-container-id-6 div.sk-parallel-item {display: flex;flex-direction: column;z-index: 1;position: relative;background-color: white;}#sk-container-id-6 div.sk-parallel-item:first-child::after {align-self: flex-end;width: 50%;}#sk-container-id-6 div.sk-parallel-item:last-child::after {align-self: flex-start;width: 50%;}#sk-container-id-6 div.sk-parallel-item:only-child::after {width: 0;}#sk-container-id-6 div.sk-dashed-wrapped {border: 1px dashed gray;margin: 0 0.4em 0.5em 0.4em;box-sizing: border-box;padding-bottom: 0.4em;background-color: white;}#sk-container-id-6 div.sk-label label {font-family: monospace;font-weight: bold;display: inline-block;line-height: 1.2em;}#sk-container-id-6 div.sk-label-container {text-align: center;}#sk-container-id-6 div.sk-container {/* jupyter's `normalize.less` sets `[hidden] { display: none; }` but bootstrap.min.css set `[hidden] { display: none !important; }` so we also need the `!important` here to be able to override the default hidden behavior on the sphinx rendered scikit-learn.org. See: https://github.com/scikit-learn/scikit-learn/issues/21755 */display: inline-block !important;position: relative;}#sk-container-id-6 div.sk-text-repr-fallback {display: none;}</style><div id=\"sk-container-id-6\" class=\"sk-top-container\"><div class=\"sk-text-repr-fallback\"><pre>ElasticNet(alpha=0.1, l1_ratio=0.1)</pre><b>In a Jupyter environment, please rerun this cell to show the HTML representation or trust the notebook. <br />On GitHub, the HTML representation is unable to render, please try loading this page with nbviewer.org.</b></div><div class=\"sk-container\" hidden><div class=\"sk-item\"><div class=\"sk-estimator sk-toggleable\"><input class=\"sk-toggleable__control sk-hidden--visually\" id=\"sk-estimator-id-6\" type=\"checkbox\" checked><label for=\"sk-estimator-id-6\" class=\"sk-toggleable__label sk-toggleable__label-arrow\">ElasticNet</label><div class=\"sk-toggleable__content\"><pre>ElasticNet(alpha=0.1, l1_ratio=0.1)</pre></div></div></div></div></div>"
            ]
          },
          "metadata": {},
          "execution_count": 42
        }
      ],
      "source": [
        "# Elastic Net\n",
        "grid = {\n",
        "    'alpha': [0.1, 0.5, 1.0],  # Regularization strength\n",
        "    'l1_ratio': [0.1, 0.5, 0.7, 0.9]  # Mixing parameter, with 0 <= l1_ratio <= 1.\n",
        "}\n",
        "from sklearn.linear_model import ElasticNet\n",
        "model = ElasticNet()\n",
        "\n",
        "train_model(model, grid, X_train_scaled, y_train_scaled)"
      ]
    },
    {
      "cell_type": "code",
      "source": [
        "import torch\n",
        "import torch.nn as nn\n",
        "import torch.optim as optim\n",
        "from torch.utils.data import DataLoader, TensorDataset\n",
        "from sklearn.model_selection import train_test_split, KFold\n",
        "from sklearn.metrics import mean_absolute_error, mean_squared_error, r2_score\n",
        "\n",
        "# Define the model architecture\n",
        "class ANNModel(nn.Module):\n",
        "    def __init__(self, input_size):\n",
        "        super(ANNModel, self).__init__()\n",
        "        self.layers = nn.Sequential(\n",
        "            nn.Linear(input_size, 128),\n",
        "            nn.ReLU(),\n",
        "            nn.Dropout(0.2),\n",
        "            nn.Linear(128, 64),\n",
        "            nn.ReLU(),\n",
        "            nn.Dropout(0.2),\n",
        "            nn.Linear(64, 32),\n",
        "            nn.ReLU(),\n",
        "            nn.Linear(32, 1)\n",
        "        )\n",
        "\n",
        "    def forward(self, x):\n",
        "        return self.layers(x)\n",
        "\n",
        "# Convert data to PyTorch tensors\n",
        "X_tensor = torch.from_numpy(X_train_scaled).float()\n",
        "y_tensor = torch.from_numpy(y_train_scaled.reshape(-1, 1)).float()\n",
        "\n",
        "# Define the training function\n",
        "def train_model(model, X_tensor, y_tensor, epochs, batch_size, learning_rate, weight_decay):\n",
        "    # Create DataLoader for training data\n",
        "    train_dataset = TensorDataset(X_tensor, y_tensor)\n",
        "    train_loader = DataLoader(train_dataset, batch_size=batch_size, shuffle=True)\n",
        "\n",
        "    # Set the loss function and optimizer\n",
        "    criterion = nn.MSELoss()\n",
        "    optimizer = optim.Adam(model.parameters(), lr=learning_rate, weight_decay=weight_decay)\n",
        "\n",
        "    # Training loop\n",
        "    for epoch in range(epochs):\n",
        "        model.train()\n",
        "        train_loss = 0.0\n",
        "\n",
        "        for batch_X, batch_y in train_loader:\n",
        "            optimizer.zero_grad()\n",
        "            outputs = model(batch_X)\n",
        "            loss = criterion(outputs, batch_y)\n",
        "            loss.backward()\n",
        "            optimizer.step()\n",
        "            train_loss += loss.item()\n",
        "\n",
        "        train_loss /= len(train_loader)\n",
        "\n",
        "        if (epoch + 1) % 10 == 0:\n",
        "            print(f\"Epoch [{epoch+1}/{epochs}], Train Loss: {train_loss:.4f}\")\n",
        "\n",
        "    return model\n",
        "\n",
        "# Define the evaluation function\n",
        "def evaluate_model(model, X_tensor, y_tensor):\n",
        "    model.eval()\n",
        "    with torch.no_grad():\n",
        "        outputs = model(X_tensor)\n",
        "        y_pred = outputs.numpy().flatten()\n",
        "        y_true = y_tensor.numpy().flatten()\n",
        "\n",
        "        mse = mean_squared_error(y_true, y_pred)\n",
        "        mae = mean_absolute_error(y_true, y_pred)\n",
        "        r2 = r2_score(y_true, y_pred)\n",
        "\n",
        "        return mse, mae, r2\n",
        "\n",
        "# Define the cross-validation function\n",
        "def cross_validate(model, X_tensor, y_tensor, epochs, batch_size, learning_rate, weight_decay, n_splits):\n",
        "    kf = KFold(n_splits=n_splits, shuffle=True, random_state=42)\n",
        "    mse_scores = []\n",
        "    mae_scores = []\n",
        "    r2_scores = []\n",
        "\n",
        "    for train_index, val_index in kf.split(X_tensor):\n",
        "        X_train, X_val = X_tensor[train_index], X_tensor[val_index]\n",
        "        y_train, y_val = y_tensor[train_index], y_tensor[val_index]\n",
        "\n",
        "        model = ANNModel(X_tensor.shape[1])\n",
        "        model = train_model(model, X_train, y_train, epochs, batch_size, learning_rate, weight_decay)\n",
        "\n",
        "        mse, mae, r2 = evaluate_model(model, X_val, y_val)\n",
        "        mse_scores.append(mse)\n",
        "        mae_scores.append(mae)\n",
        "        r2_scores.append(r2)\n",
        "\n",
        "    return np.mean(mse_scores), np.mean(mae_scores), np.mean(r2_scores)\n",
        "\n",
        "# Hyperparameter tuning\n",
        "epochs = 100\n",
        "batch_size = 32\n",
        "learning_rate = 0.001\n",
        "weight_decay = 0.01\n",
        "n_splits = 5\n",
        "\n",
        "# Perform cross-validation\n",
        "mse, mae, r2 = cross_validate(ANNModel, X_tensor, y_tensor, epochs, batch_size, learning_rate, weight_decay, n_splits)\n",
        "\n",
        "print(f\"Cross-Validation Metrics:\")\n",
        "print(f\"Mean Squared Error (MSE): {mse:.4f}\")\n",
        "print(f\"Mean Absolute Error (MAE): {mae:.4f}\")\n",
        "print(f\"R-squared (R2): {r2:.4f}\")\n",
        "\n",
        "# Train the final model using the best hyperparameters\n",
        "model = ANNModel(X_tensor.shape[1])\n",
        "model = train_model(model, X_tensor, y_tensor, epochs, batch_size, learning_rate, weight_decay)\n",
        "\n",
        "# Evaluate the final model on the test set\n",
        "X_test_tensor = torch.from_numpy(X_test_scaled).float()\n",
        "y_test_tensor = torch.from_numpy(y_test_scaled.reshape(-1, 1)).float()\n",
        "\n",
        "mse, mae, r2 = evaluate_model(model, X_test_tensor, y_test_tensor)\n",
        "\n",
        "print(f\"\\nFinal Model Metrics on Test Set:\")\n",
        "print(f\"Mean Squared Error (MSE): {mse:.4f}\")\n",
        "print(f\"Mean Absolute Error (MAE): {mae:.4f}\")\n",
        "print(f\"R-squared (R2): {r2:.4f}\")"
      ],
      "metadata": {
        "colab": {
          "base_uri": "https://localhost:8080/"
        },
        "id": "AmH3yH9teQEG",
        "outputId": "7f3e14dc-4b3e-48fa-c1e6-f89e13e2ed2d"
      },
      "execution_count": 86,
      "outputs": [
        {
          "output_type": "stream",
          "name": "stdout",
          "text": [
            "Epoch [10/100], Train Loss: 0.3129\n",
            "Epoch [20/100], Train Loss: 0.2797\n",
            "Epoch [30/100], Train Loss: 0.2301\n",
            "Epoch [40/100], Train Loss: 0.2388\n",
            "Epoch [50/100], Train Loss: 0.2291\n",
            "Epoch [60/100], Train Loss: 0.2012\n",
            "Epoch [70/100], Train Loss: 0.1941\n",
            "Epoch [80/100], Train Loss: 0.1610\n",
            "Epoch [90/100], Train Loss: 0.2008\n",
            "Epoch [100/100], Train Loss: 0.1756\n",
            "Epoch [10/100], Train Loss: 0.3207\n",
            "Epoch [20/100], Train Loss: 0.2450\n",
            "Epoch [30/100], Train Loss: 0.2451\n",
            "Epoch [40/100], Train Loss: 0.2370\n",
            "Epoch [50/100], Train Loss: 0.1750\n",
            "Epoch [60/100], Train Loss: 0.2288\n",
            "Epoch [70/100], Train Loss: 0.1787\n",
            "Epoch [80/100], Train Loss: 0.1625\n",
            "Epoch [90/100], Train Loss: 0.1441\n",
            "Epoch [100/100], Train Loss: 0.1544\n",
            "Epoch [10/100], Train Loss: 0.3121\n",
            "Epoch [20/100], Train Loss: 0.2601\n",
            "Epoch [30/100], Train Loss: 0.2388\n",
            "Epoch [40/100], Train Loss: 0.2051\n",
            "Epoch [50/100], Train Loss: 0.2270\n",
            "Epoch [60/100], Train Loss: 0.2107\n",
            "Epoch [70/100], Train Loss: 0.2007\n",
            "Epoch [80/100], Train Loss: 0.1951\n",
            "Epoch [90/100], Train Loss: 0.1689\n",
            "Epoch [100/100], Train Loss: 0.1630\n",
            "Epoch [10/100], Train Loss: 0.3028\n",
            "Epoch [20/100], Train Loss: 0.2411\n",
            "Epoch [30/100], Train Loss: 0.2344\n",
            "Epoch [40/100], Train Loss: 0.2164\n",
            "Epoch [50/100], Train Loss: 0.2014\n",
            "Epoch [60/100], Train Loss: 0.1909\n",
            "Epoch [70/100], Train Loss: 0.2054\n",
            "Epoch [80/100], Train Loss: 0.1704\n",
            "Epoch [90/100], Train Loss: 0.2310\n",
            "Epoch [100/100], Train Loss: 0.2018\n",
            "Epoch [10/100], Train Loss: 0.2271\n",
            "Epoch [20/100], Train Loss: 0.1998\n",
            "Epoch [30/100], Train Loss: 0.1915\n",
            "Epoch [40/100], Train Loss: 0.2349\n",
            "Epoch [50/100], Train Loss: 0.1881\n",
            "Epoch [60/100], Train Loss: 0.1818\n",
            "Epoch [70/100], Train Loss: 0.1546\n",
            "Epoch [80/100], Train Loss: 0.1536\n",
            "Epoch [90/100], Train Loss: 0.1429\n",
            "Epoch [100/100], Train Loss: 0.1619\n",
            "Cross-Validation Metrics:\n",
            "Mean Squared Error (MSE): 0.2685\n",
            "Mean Absolute Error (MAE): 0.2419\n",
            "R-squared (R2): 0.7248\n",
            "Epoch [10/100], Train Loss: 0.3007\n",
            "Epoch [20/100], Train Loss: 0.2798\n",
            "Epoch [30/100], Train Loss: 0.2138\n",
            "Epoch [40/100], Train Loss: 0.2434\n",
            "Epoch [50/100], Train Loss: 0.2594\n",
            "Epoch [60/100], Train Loss: 0.1996\n",
            "Epoch [70/100], Train Loss: 0.1903\n",
            "Epoch [80/100], Train Loss: 0.1898\n",
            "Epoch [90/100], Train Loss: 0.1719\n",
            "Epoch [100/100], Train Loss: 0.1880\n",
            "\n",
            "Final Model Metrics on Test Set:\n",
            "Mean Squared Error (MSE): 0.3654\n",
            "Mean Absolute Error (MAE): 0.2713\n",
            "R-squared (R2): 0.7244\n"
          ]
        }
      ]
    },
    {
      "cell_type": "code",
      "source": [
        "from datetime import datetime, timedelta\n",
        "\n",
        "\n",
        "start_date = datetime(2024, 1, 1)\n",
        "end_date = datetime(2024, 12, 31)\n",
        "\n",
        "results_df = pd.DataFrame(columns=['sample_index', 'max_revenue_date', 'max_revenue_value'])\n",
        "\n",
        "\n",
        "for index, row in X_test.iterrows():\n",
        "    vote_average = row['vote_average']\n",
        "    vote_count = row['vote_count']\n",
        "    runtime = row['runtime']\n",
        "    overview = row['overview']\n",
        "    budget = row['budget']\n",
        "\n",
        "    max_revenue_date = None\n",
        "    max_revenue_value = float('-inf')\n",
        "\n",
        "    current_date = start_date\n",
        "    while current_date <= end_date:\n",
        "\n",
        "        input_features = pd.DataFrame({\n",
        "            'vote_average': [vote_average],\n",
        "            'vote_count': [vote_count],\n",
        "            'runtime': [runtime],\n",
        "            'overview': [overview],\n",
        "            'release_month': [current_date.month],\n",
        "            'release_year': [current_date.year],\n",
        "            'release_day_of_week': [current_date.weekday()],\n",
        "            'release_season': [current_date.month % 12 // 3 + 1],\n",
        "            'budget': [budget]\n",
        "        })\n",
        "\n",
        "\n",
        "        input_features_scaled = scaler.transform(input_features)\n",
        "\n",
        "\n",
        "\n",
        "        predicted_revenue = RF_trained_model.predict(input_features_scaled)[0]\n",
        "\n",
        "\n",
        "        if predicted_revenue > max_revenue_value:\n",
        "            max_revenue_date = current_date\n",
        "            max_revenue_value = predicted_revenue\n",
        "\n",
        "\n",
        "\n",
        "        current_date += timedelta(days=1)\n",
        "\n",
        "    # Inverse transform the predicted maximum revenue using the same scaler used for the target variable\n",
        "    max_revenue_value = y_scaler.inverse_transform([[max_revenue_value]])[0][0]\n",
        "\n",
        "\n",
        "    new_row = pd.DataFrame([{\n",
        "    'sample_index': index,\n",
        "    'max_revenue_date': max_revenue_date,\n",
        "    'max_revenue_value': max_revenue_value\n",
        "}])\n",
        "\n",
        "\n",
        "    results_df = pd.concat([results_df,new_row], ignore_index=True)\n",
        "\n",
        "print(results_df)"
      ],
      "metadata": {
        "colab": {
          "base_uri": "https://localhost:8080/"
        },
        "id": "ogMwOlokixCs",
        "outputId": "c137a10f-2f8c-4f00-8a5f-c61f2da24cb6"
      },
      "execution_count": null,
      "outputs": [
        {
          "output_type": "stream",
          "name": "stdout",
          "text": [
            "    sample_index max_revenue_date  max_revenue_value\n",
            "0            858       2024-11-03       1.377930e+08\n",
            "1           1318       2024-01-07       5.541671e+07\n",
            "2           2892       2024-01-07       5.737219e+07\n",
            "3            133       2024-11-07       2.123965e+08\n",
            "4           1932       2024-01-07       8.630025e+07\n",
            "..           ...              ...                ...\n",
            "200          423       2024-11-04       1.197476e+08\n",
            "201         2579       2024-01-07       5.760468e+07\n",
            "202         2071       2024-12-01       1.281819e+08\n",
            "203          669       2024-12-01       9.823075e+07\n",
            "204        15026       2024-01-07       3.894095e+07\n",
            "\n",
            "[205 rows x 3 columns]\n"
          ]
        }
      ]
    },
    {
      "cell_type": "code",
      "source": [
        "animation_processed['release_season'].unique()"
      ],
      "metadata": {
        "colab": {
          "base_uri": "https://localhost:8080/"
        },
        "id": "xivFsfi4iJ9F",
        "outputId": "c6a38daa-5bff-4348-a259-e5ecc01442e1"
      },
      "execution_count": null,
      "outputs": [
        {
          "output_type": "execute_result",
          "data": {
            "text/plain": [
              "array([4, 1, 2, 3], dtype=int32)"
            ]
          },
          "metadata": {},
          "execution_count": 44
        }
      ]
    },
    {
      "cell_type": "code",
      "source": [
        "# Extract the release season from the 'max_revenue_date'\n",
        "results_df['release_season'] = results_df['max_revenue_date'].dt.month % 12 // 3 + 1\n",
        "\n",
        "# Group by release season and calculate the average predicted revenue\n",
        "seasonality_df = results_df.groupby('release_season')['max_revenue_value'].mean().reset_index()\n",
        "\n",
        "# Print the seasonality results\n",
        "print(\"Seasonality Analysis:\")\n",
        "print(\"---------------------\")\n",
        "print(seasonality_df)\n",
        "\n",
        "# Visualize the seasonality using a bar plot\n",
        "import matplotlib.pyplot as plt\n",
        "\n",
        "plt.figure(figsize=(8, 6))\n",
        "plt.bar(seasonality_df['release_season'], seasonality_df['max_revenue_value'])\n",
        "plt.xlabel('Release Season')\n",
        "plt.ylabel('Average Predicted Revenue')\n",
        "plt.title('Seasonality Analysis')\n",
        "plt.xticks(seasonality_df['release_season'], ['Winter', 'Spring', 'Summer', 'Fall'])\n",
        "plt.show()"
      ],
      "metadata": {
        "colab": {
          "base_uri": "https://localhost:8080/",
          "height": 685
        },
        "id": "a9yveBu0_vvy",
        "outputId": "ac477bcc-6ad9-496a-a95a-944a4f47fe29"
      },
      "execution_count": null,
      "outputs": [
        {
          "output_type": "stream",
          "name": "stdout",
          "text": [
            "Seasonality Analysis:\n",
            "---------------------\n",
            "   release_season  max_revenue_value\n",
            "0               1       1.007851e+08\n",
            "1               2       7.917446e+08\n",
            "2               3       7.411642e+08\n",
            "3               4       1.356278e+08\n"
          ]
        },
        {
          "output_type": "display_data",
          "data": {
            "text/plain": [
              "<Figure size 800x600 with 1 Axes>"
            ],
            "image/png": "[encoded data removed]"
          },
          "metadata": {}
        }
      ]
    },
    {
      "cell_type": "code",
      "source": [
        "from scipy.stats import f_oneway\n",
        "\n",
        "winter_revenue = results_df[results_df['release_season'] == 1]['max_revenue_value']\n",
        "spring_revenue = results_df[results_df['release_season'] == 2]['max_revenue_value']\n",
        "summer_revenue = results_df[results_df['release_season'] == 3]['max_revenue_value']\n",
        "fall_revenue = results_df[results_df['release_season'] == 4]['max_revenue_value']\n",
        "\n",
        "f_statistic, p_value = f_oneway(winter_revenue, spring_revenue, summer_revenue, fall_revenue)\n",
        "\n",
        "print(\"\\nOne-way ANOVA Results:\")\n",
        "print(\"----------------------\")\n",
        "print(f\"F-statistic: {f_statistic}\")\n",
        "print(f\"p-value: {p_value}\")\n"
      ],
      "metadata": {
        "colab": {
          "base_uri": "https://localhost:8080/"
        },
        "id": "CHSgDJPgA3Bt",
        "outputId": "7e516c64-d6e6-480a-fbb0-baa3ed11f83a"
      },
      "execution_count": null,
      "outputs": [
        {
          "output_type": "stream",
          "name": "stdout",
          "text": [
            "\n",
            "One-way ANOVA Results:\n",
            "----------------------\n",
            "F-statistic: 366.5983330269283\n",
            "p-value: 3.25318403426854e-81\n"
          ]
        }
      ]
    },
    {
      "cell_type": "code",
      "source": [
        "importances = RF_trained_model.feature_importances_\n",
        "\n",
        "feature_names = X.columns\n",
        "\n",
        "indices = np.argsort(importances)[::-1]\n",
        "\n",
        "plt.figure(figsize=(8, 6))\n",
        "plt.barh(range(len(importances)), importances[indices])\n",
        "plt.yticks(range(len(importances)), feature_names[indices])\n",
        "plt.xlabel('Importance')\n",
        "plt.ylabel('Features')\n",
        "plt.title('Feature Importance')\n",
        "plt.tight_layout()\n",
        "plt.savefig(\"Imp_feat.png\")\n",
        "plt.show()"
      ],
      "metadata": {
        "colab": {
          "base_uri": "https://localhost:8080/",
          "height": 607
        },
        "id": "W-Cy8TIHE-fc",
        "outputId": "c499637e-b2ac-4e4a-ebbd-ffdea669cc1a"
      },
      "execution_count": null,
      "outputs": [
        {
          "output_type": "display_data",
          "data": {
            "text/plain": [
              "<Figure size 800x600 with 1 Axes>"
            ],
            "image/png": "[encoded data removed]"
          },
          "metadata": {}
        }
      ]
    },
    {
      "cell_type": "markdown",
      "source": [
        "## Method 2"
      ],
      "metadata": {
        "id": "icMf_FELRgsx"
      }
    },
    {
      "cell_type": "code",
      "source": [
        "from datetime import datetime\n",
        "\n",
        "animation_processed['release_date'] = pd.to_datetime(animation_processed['release_date'])\n",
        "\n",
        "# Find the earliest date in the 'release_date' column\n",
        "reference_date = animation_processed['release_date'].min()\n",
        "\n",
        "animation_processed['days_since_ref'] = (animation_processed['release_date'] - reference_date).dt.days\n",
        "animation_processed = animation_processed.drop('release_date', axis=1)"
      ],
      "metadata": {
        "id": "z3HTcovfSJJw"
      },
      "execution_count": null,
      "outputs": []
    },
    {
      "cell_type": "code",
      "source": [
        "from sklearn.preprocessing import StandardScaler\n",
        "from sklearn.model_selection import train_test_split\n",
        "\n",
        "\n",
        "# Extract relevant features for prediction\n",
        "X = animation_processed[['vote_average', 'vote_count', 'runtime', 'overview', 'days_since_ref' ,'release_season', 'budget']]\n",
        "y = animation_processed['revenue']\n",
        "\n",
        "\n",
        "X_train, X_test, y_train, y_test = train_test_split(X, y, test_size=0.2, random_state=42)\n",
        "\n",
        "# Scale the features\n",
        "scaler = StandardScaler()\n",
        "X_train_scaled = scaler.fit_transform(X_train)\n",
        "X_test_scaled = scaler.transform(X_test)\n",
        "# Scale the target variable\n",
        "y_scaler = StandardScaler()\n",
        "y_train_scaled = y_scaler.fit_transform(y_train.values.reshape(-1, 1)).flatten()\n",
        "y_test_scaled = y_scaler.transform(y_test.values.reshape(-1, 1)).flatten()"
      ],
      "metadata": {
        "id": "xF23G9cFUSSR"
      },
      "execution_count": null,
      "outputs": []
    },
    {
      "cell_type": "code",
      "source": [
        "from sklearn.ensemble import RandomForestRegressor\n",
        "grid ={}\n",
        "model = RandomForestRegressor()\n",
        "RF_trained_model = train_model(model, grid, X_train_scaled, y_train_scaled)"
      ],
      "metadata": {
        "colab": {
          "base_uri": "https://localhost:8080/"
        },
        "id": "8_gYiNIOXBM5",
        "outputId": "981348c4-5945-4c03-a4b7-1bdbf6ca017c"
      },
      "execution_count": null,
      "outputs": [
        {
          "output_type": "stream",
          "name": "stderr",
          "text": [
            "/usr/local/lib/python3.10/dist-packages/joblib/externals/loky/backend/fork_exec.py:38: RuntimeWarning: os.fork() was called. os.fork() is incompatible with multithreaded code, and JAX is multithreaded, so this will likely lead to a deadlock.\n",
            "  pid = os.fork()\n"
          ]
        },
        {
          "output_type": "stream",
          "name": "stdout",
          "text": [
            "Training Metrics:\n",
            "-----------------\n",
            "Best R-squared on training data: 0.959669 using the following parameters: {}\n",
            "Best Adjusted R-squared on training data: 0.959320\n",
            "Mean Absolute Error on training data: 0.088358\n",
            "Mean Squared Error on training data: 0.040331\n",
            "\n",
            "Cross-Validation Metrics:\n",
            "-------------------------\n",
            "R-squared: 0.669951 (0.262598) with parameters: {}\n"
          ]
        }
      ]
    },
    {
      "cell_type": "code",
      "source": [
        "# Random Forest is best, try on test set\n",
        "y_pred_RF = RF_trained_model.predict(X_test_scaled)\n",
        "# Printing Testing metrics\n",
        "print(\"Testing Metrics:\")\n",
        "print(\"-----------------\")\n",
        "print(\"Best R-squared on testing data: %f \" % (r2_score(y_test_scaled, y_pred_RF)))\n",
        "print(\"Mean Absolute Error on testing data: %f\" % mean_absolute_error(y_test_scaled, y_pred_RF))\n",
        "print(\"Mean Squared Error on testing data: %f\" % mean_squared_error(y_test_scaled, y_pred_RF))"
      ],
      "metadata": {
        "colab": {
          "base_uri": "https://localhost:8080/"
        },
        "id": "E72a74l9XSqo",
        "outputId": "1c65fdcb-392b-45c3-d4f8-2b1e5d368626"
      },
      "execution_count": null,
      "outputs": [
        {
          "output_type": "stream",
          "name": "stdout",
          "text": [
            "Testing Metrics:\n",
            "-----------------\n",
            "Best R-squared on testing data: 0.828233 \n",
            "Mean Absolute Error on testing data: 0.222037\n",
            "Mean Squared Error on testing data: 0.195583\n"
          ]
        }
      ]
    },
    {
      "cell_type": "code",
      "source": [
        "from datetime import datetime, timedelta\n",
        "\n",
        "results_df = pd.DataFrame(columns=['sample_index', 'max_revenue_date', 'max_revenue_value'])\n",
        "\n",
        "for index, row in X_test.iterrows():\n",
        "    vote_average = row['vote_average']\n",
        "    vote_count = row['vote_count']\n",
        "    runtime = row['runtime']\n",
        "    overview = row['overview']\n",
        "    budget = row['budget']\n",
        "    release_season = row['release_season']\n",
        "    days_since_ref = row['days_since_ref']\n",
        "\n",
        "    # Calculate the actual release date for the test sample\n",
        "    release_date = reference_date + timedelta(days=days_since_ref)\n",
        "\n",
        "    # Set the start and end dates based on the release date\n",
        "    start_date = release_date\n",
        "    end_date = release_date + timedelta(days=365)\n",
        "\n",
        "    max_revenue_date = None\n",
        "    max_revenue_value = float('-inf')\n",
        "\n",
        "    current_date = start_date\n",
        "    while current_date <= end_date:\n",
        "        days_since_ref = (current_date - reference_date).days\n",
        "\n",
        "        input_features = pd.DataFrame({\n",
        "            'vote_average': [vote_average],\n",
        "            'vote_count': [vote_count],\n",
        "            'runtime': [runtime],\n",
        "            'overview': [overview],\n",
        "            'days_since_ref': [days_since_ref],\n",
        "            'release_season': [release_season],\n",
        "            'budget': [budget]\n",
        "        })\n",
        "\n",
        "        input_features_scaled = scaler.transform(input_features)\n",
        "        predicted_revenue = RF_trained_model.predict(input_features_scaled)[0]\n",
        "\n",
        "        if predicted_revenue > max_revenue_value:\n",
        "            max_revenue_date = current_date\n",
        "            max_revenue_value = predicted_revenue\n",
        "\n",
        "        current_date += timedelta(days=1)\n",
        "\n",
        "    # Inverse transform the predicted maximum revenue using the same scaler used for the target variable\n",
        "    max_revenue_value = y_scaler.inverse_transform([[max_revenue_value]])[0][0]\n",
        "\n",
        "    # Format the date as \"mm-dd-yyyy\"\n",
        "    formatted_date = max_revenue_date.strftime(\"%m-%d-%Y\")\n",
        "\n",
        "    new_row = pd.DataFrame([{\n",
        "        'sample_index': index,\n",
        "        'max_revenue_date': formatted_date,\n",
        "        'max_revenue_value': max_revenue_value\n",
        "    }])\n",
        "\n",
        "    results_df = pd.concat([results_df, new_row], ignore_index=True)\n",
        "\n",
        "print(results_df)"
      ],
      "metadata": {
        "colab": {
          "base_uri": "https://localhost:8080/"
        },
        "id": "c5IW_W-ZXaMx",
        "outputId": "df2bdddb-0179-4c43-b12e-c878d655c35e"
      },
      "execution_count": null,
      "outputs": [
        {
          "output_type": "stream",
          "name": "stdout",
          "text": [
            "    sample_index max_revenue_date  max_revenue_value\n",
            "0            858       01-07-2023       1.385319e+08\n",
            "1           1318       05-01-2012       6.852220e+06\n",
            "2           2892       04-03-2017       3.400564e+06\n",
            "3            133       11-08-1973       7.863896e+07\n",
            "4           1932       12-17-2015       5.178023e+07\n",
            "..           ...              ...                ...\n",
            "200          423       10-06-2011       1.149347e+08\n",
            "201         2579       01-11-2018       4.457915e+06\n",
            "202         2071       01-24-2022       5.845061e+07\n",
            "203          669       07-15-2014       3.901492e+07\n",
            "204        15026       06-17-2018       1.537495e+04\n",
            "\n",
            "[205 rows x 3 columns]\n"
          ]
        }
      ]
    },
    {
      "cell_type": "code",
      "source": [
        "import matplotlib.pyplot as plt\n",
        "\n",
        "# Extract the month from the 'max_revenue_date' column\n",
        "results_df['max_revenue_month'] = pd.to_datetime(results_df['max_revenue_date']).dt.month\n",
        "\n",
        "# Map the month numbers to season names\n",
        "season_map = {\n",
        "    12: 'Winter', 1: 'Winter', 2: 'Winter',\n",
        "    3: 'Spring', 4: 'Spring', 5: 'Spring',\n",
        "    6: 'Summer', 7: 'Summer', 8: 'Summer',\n",
        "    9: 'Fall', 10: 'Fall', 11: 'Fall'\n",
        "}\n",
        "\n",
        "# Create a new column 'max_revenue_season' based on the 'max_revenue_month'\n",
        "results_df['max_revenue_season'] = results_df['max_revenue_month'].map(season_map)\n",
        "\n",
        "# Group by 'max_revenue_season' and calculate the mean 'max_revenue_value'\n",
        "seasonality_df = results_df.groupby('max_revenue_season')['max_revenue_value'].mean().reset_index()\n",
        "\n",
        "# Create a bar plot of the seasonality analysis\n",
        "plt.figure(figsize=(8, 6))\n",
        "plt.bar(seasonality_df['max_revenue_season'], seasonality_df['max_revenue_value'])\n",
        "plt.xlabel('Season')\n",
        "plt.ylabel('Average Maximum Revenue')\n",
        "plt.title('Seasonality Analysis')\n",
        "plt.show()"
      ],
      "metadata": {
        "colab": {
          "base_uri": "https://localhost:8080/",
          "height": 564
        },
        "id": "E21Vw9zHYqwf",
        "outputId": "1360cf62-c2a3-41f2-cb08-3dfea082a007"
      },
      "execution_count": null,
      "outputs": [
        {
          "output_type": "display_data",
          "data": {
            "text/plain": [
              "<Figure size 800x600 with 1 Axes>"
            ],
            "image/png": "[encoded data removed]"
          },
          "metadata": {}
        }
      ]
    },
    {
      "cell_type": "code",
      "source": [
        "importances = RF_trained_model.feature_importances_\n",
        "\n",
        "feature_names = X.columns\n",
        "\n",
        "indices = np.argsort(importances)[::-1]\n",
        "\n",
        "plt.figure(figsize=(10, 6))\n",
        "plt.barh(range(len(importances)), importances[indices])\n",
        "plt.yticks(range(len(importances)), feature_names[indices])\n",
        "plt.xlabel('Importance')\n",
        "plt.ylabel('Features')\n",
        "plt.title('Feature Importance')\n",
        "plt.tight_layout()\n",
        "plt.show()"
      ],
      "metadata": {
        "colab": {
          "base_uri": "https://localhost:8080/",
          "height": 607
        },
        "id": "FrMvtF72eF-A",
        "outputId": "1f635ef6-f47c-47ca-ce97-ed01476f4961"
      },
      "execution_count": null,
      "outputs": [
        {
          "output_type": "display_data",
          "data": {
            "text/plain": [
              "<Figure size 1000x600 with 1 Axes>"
            ],
            "image/png": "[encoded data removed]"
          },
          "metadata": {}
        }
      ]
    },
    {
      "cell_type": "code",
      "source": [
        "seasons = results_df['max_revenue_season'].unique()\n",
        "revenue_data = [results_df[results_df['max_revenue_season'] == season]['max_revenue_value'] for season in seasons]\n",
        "f_statistic, p_value = f_oneway(*revenue_data)\n",
        "\n",
        "print(\"One-way ANOVA:\")\n",
        "print(\"F-statistic:\", f_statistic)\n",
        "print(\"p-value:\", p_value)"
      ],
      "metadata": {
        "colab": {
          "base_uri": "https://localhost:8080/"
        },
        "id": "VWSchXCve1lg",
        "outputId": "f009726c-8594-494f-80c7-cdf86e871362"
      },
      "execution_count": null,
      "outputs": [
        {
          "output_type": "stream",
          "name": "stdout",
          "text": [
            "One-way ANOVA:\n",
            "F-statistic: 1.2292951516443122\n",
            "p-value: 0.30016516111742975\n"
          ]
        }
      ]
    },
    {
      "cell_type": "code",
      "source": [
        "from scipy.stats import f_oneway\n",
        "\n",
        "# Convert 'release_date' to datetime format\n",
        "animation_processed['release_date'] = pd.to_datetime(data['release_date'])\n",
        "\n",
        "# Group 'release_date' into years or any other suitable interval\n",
        "animation_processed['release_year'] = animation_processed['release_date'].dt.year\n",
        "\n",
        "# Perform one-way ANOVA\n",
        "years = animation_processed['release_year'].unique()\n",
        "revenue_data = [animation_processed[animation_processed['release_year'] == year]['revenue'] for year in years]\n",
        "f_statistic, p_value = f_oneway(*revenue_data)\n",
        "\n",
        "print(\"One-way ANOVA (Revenue vs Release Year):\")\n",
        "print(\"F-statistic:\", f_statistic)\n",
        "print(\"p-value:\", p_value)\n",
        "\n",
        "# Create a bar plot of the revenue by release year\n",
        "revenue_by_year = animation_processed.groupby('release_year')['revenue'].mean().reset_index()\n",
        "\n",
        "plt.figure(figsize=(10, 6))\n",
        "plt.bar(revenue_by_year['release_year'], revenue_by_year['revenue'])\n",
        "plt.xlabel('Release Year')\n",
        "plt.ylabel('Average Revenue')\n",
        "plt.title('Revenue by Release Year')\n",
        "plt.xticks()\n",
        "plt.show()"
      ],
      "metadata": {
        "colab": {
          "base_uri": "https://localhost:8080/",
          "height": 616
        },
        "id": "sL8Jk3fof2bX",
        "outputId": "c7d2a9de-5250-418d-b44d-7a2d78708167"
      },
      "execution_count": null,
      "outputs": [
        {
          "output_type": "stream",
          "name": "stdout",
          "text": [
            "One-way ANOVA (Revenue vs Release Year):\n",
            "F-statistic: 0.5369327781461589\n",
            "p-value: 0.9993655388109791\n"
          ]
        },
        {
          "output_type": "display_data",
          "data": {
            "text/plain": [
              "<Figure size 1000x600 with 1 Axes>"
            ],
            "image/png": "[encoded data removed]"
          },
          "metadata": {}
        }
      ]
    },
    {
      "cell_type": "markdown",
      "source": [
        "In Method 2,we have encoded date in different way. Instead of seperating date into three different entities, date is encoded as a single entity. A reference date is which is the earliest date in the dataset. All the dates are calculated as difference from actual date and the reference date.\n",
        "\n",
        "**Result** : Encoding date in this method is giving comparetively less accuracy. Hence we are prefering the 1st method."
      ],
      "metadata": {
        "id": "QwzMf_X4vPHV"
      }
    },
    {
      "cell_type": "code",
      "source": [],
      "metadata": {
        "id": "DE5GoVqFwHiJ"
      },
      "execution_count": null,
      "outputs": []
    }
  ],
  "metadata": {
    "accelerator": "GPU",
    "colab": {
      "gpuType": "T4",
      "machine_shape": "hm",
      "provenance": []
    },
    "kernelspec": {
      "display_name": "Python 3",
      "name": "python3"
    },
    "language_info": {
      "name": "python"
    }
  },
  "nbformat": 4,
  "nbformat_minor": 0
}